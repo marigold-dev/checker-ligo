{
 "cells": [
  {
   "cell_type": "markdown",
   "id": "cc1083b8",
   "metadata": {},
   "source": [
    "Execute the following cell to change the width of the Jupyter cells:"
   ]
  },
  {
   "cell_type": "code",
   "execution_count": null,
   "id": "8dac4941",
   "metadata": {},
   "outputs": [],
   "source": [
    "from IPython.display import display, HTML\n",
    "display(HTML(\"<style>.container { width:100% !important; }</style>\"))"
   ]
  },
  {
   "cell_type": "markdown",
   "id": "518b37e7",
   "metadata": {},
   "source": [
    "# Configuration — Ghostnet or Flextesa"
   ]
  },
  {
   "cell_type": "markdown",
   "id": "c5863ff7",
   "metadata": {},
   "source": [
    "We assume that the `checker` package was installed in the current environment with `python setup.py install` and that a Tezos RPC node is available. Depending on whether you're using Ghostnet or a local version of Tezos (e.g., with Flextesa), you will need to use the right configuration."
   ]
  },
  {
   "cell_type": "code",
   "execution_count": null,
   "id": "ed1da204",
   "metadata": {},
   "outputs": [],
   "source": [
    "import pytezos as tz\n",
    "import time\n",
    "from checker_tools.client.operations import inject"
   ]
  },
  {
   "cell_type": "markdown",
   "id": "e4bfc57b",
   "metadata": {},
   "source": [
    "If you're running Flextesa, skip the following section and direclty jump to the **On Flextesa** section."
   ]
  },
  {
   "cell_type": "markdown",
   "id": "d6bf55ec",
   "metadata": {},
   "source": [
    "## On Ghostnet"
   ]
  },
  {
   "cell_type": "code",
   "execution_count": null,
   "id": "2e65d37a",
   "metadata": {},
   "outputs": [],
   "source": [
    "TEZOS_RPC=\"https://ghostnet.tezos.marigold.dev\"\n",
    "\n",
    "alice = tz.Key.generate()\n",
    "alice.public_key_hash()"
   ]
  },
  {
   "cell_type": "code",
   "execution_count": null,
   "id": "07929742",
   "metadata": {},
   "outputs": [],
   "source": [
    "import requests\n",
    "\n",
    "MARIGOLD_FAUCET = f\"https://faucet-bot.marigold.dev/network/ghost/getmoney/XTZ/{alice.public_key_hash()}\"\n",
    "response = requests.get(MARIGOLD_FAUCET)\n",
    "response.status_code"
   ]
  },
  {
   "cell_type": "code",
   "execution_count": null,
   "id": "f16280dd",
   "metadata": {},
   "outputs": [],
   "source": [
    "ptz = tz.pytezos.using(TEZOS_RPC, alice)"
   ]
  },
  {
   "cell_type": "code",
   "execution_count": null,
   "id": "4763b385",
   "metadata": {},
   "outputs": [],
   "source": [
    "ptz.reveal().autofill().sign().inject(min_confirmations=1)"
   ]
  },
  {
   "cell_type": "markdown",
   "id": "ea371a52",
   "metadata": {},
   "source": [
    "Jump directly to **Basic usage of Checker** from here."
   ]
  },
  {
   "cell_type": "markdown",
   "id": "b229101c",
   "metadata": {},
   "source": [
    "## On Flextesa"
   ]
  },
  {
   "cell_type": "markdown",
   "id": "bbfee0e1",
   "metadata": {},
   "source": [
    "If you run [Flextesa](https://tezos.gitlab.io/flextesa/), use this instead:"
   ]
  },
  {
   "cell_type": "code",
   "execution_count": null,
   "id": "20d5913a",
   "metadata": {},
   "outputs": [],
   "source": [
    "TEZOS_RPC=\"http://localhost:20000\"\n",
    "\n",
    "alice = tz.Key.from_encoded_key(\"edsk3QoqBuvdamxouPhin7swCvkQNgq4jP5KZPbwWNnwdZpSpJiEbq\")\n",
    "ptz = tz.pytezos.using(TEZOS_RPC, alice)"
   ]
  },
  {
   "cell_type": "markdown",
   "id": "5abc37c7",
   "metadata": {},
   "source": [
    "# Basic usage of Checker\n",
    "\n",
    "In this notebook, we're going to show how to deploy and use the Checker library using Python and the [PyTezos](pytezos.org/) library."
   ]
  },
  {
   "cell_type": "code",
   "execution_count": null,
   "id": "40a6bfa1",
   "metadata": {},
   "outputs": [],
   "source": [
    "alice.public_key_hash()"
   ]
  },
  {
   "cell_type": "code",
   "execution_count": null,
   "id": "0e45daa6",
   "metadata": {},
   "outputs": [],
   "source": [
    "ptz.balance()"
   ]
  },
  {
   "cell_type": "markdown",
   "id": "577d0109",
   "metadata": {},
   "source": [
    "Let's define a few helpers for PyTezos:"
   ]
  },
  {
   "cell_type": "code",
   "execution_count": null,
   "id": "7ad1af70",
   "metadata": {},
   "outputs": [],
   "source": [
    "def do_it(call, amount=None):\n",
    "    \"\"\"Calls an entrypoint, optionally sending an amount of mutez\"\"\"\n",
    "    if amount is not None:\n",
    "            call = call.with_amount(amount)\n",
    "    tx = call.as_transaction()\n",
    "    inject(ptz, tx.autofill(ttl=None).sign())\n",
    "    \n",
    "def add_operator_fa2(owner, address, token, token_id):\n",
    "    return do_it(token.update_operators([{\n",
    "        \"add_operator\": {\n",
    "            \"owner\": owner.public_key_hash(),\n",
    "            \"operator\": address,\n",
    "            \"token_id\": token_id\n",
    "        }\n",
    "    }]))\n",
    "\n",
    "def add_allowance_fa12(token, spender, quantity):\n",
    "    return do_it(token.approve({\n",
    "        \"spender\": spender.address,\n",
    "        \"value\": quantity\n",
    "        })\n",
    "    )\n",
    "\n",
    "def now_plus_10():\n",
    "    return int(time.time() + 10)"
   ]
  },
  {
   "cell_type": "markdown",
   "id": "a786e77b",
   "metadata": {},
   "source": [
    "## Deploying the contracts"
   ]
  },
  {
   "cell_type": "markdown",
   "id": "123c8fc0",
   "metadata": {},
   "source": [
    "This notebook assumes that Checker, its dependencies and the mock contract have already been compiled. However, we strongly encourage you to compile the contracts yourself before deploying anything to production."
   ]
  },
  {
   "cell_type": "code",
   "execution_count": null,
   "id": "76c9f6c1",
   "metadata": {},
   "outputs": [],
   "source": [
    "from checker_tools.builder.config import CheckerRepo\n",
    "from checker_tools.client import checker"
   ]
  },
  {
   "cell_type": "code",
   "execution_count": null,
   "id": "4202e2e9",
   "metadata": {},
   "outputs": [],
   "source": [
    "conf = CheckerRepo(\"..\")\n",
    "conf.default_config"
   ]
  },
  {
   "cell_type": "markdown",
   "id": "c71023fc",
   "metadata": {},
   "source": [
    "### The oracle contract"
   ]
  },
  {
   "cell_type": "markdown",
   "id": "c466a243",
   "metadata": {},
   "source": [
    "In order to know the target price of the kit (or robocoin), Checker needs an oracle providing the value of 1 unit of collateral (so the unit is `kit/tok`, e.g. `USD/XTZ`). On Ghostnet, you can use an existing system such as Mavryk oracles. More oracle interfaces will be supported in the future."
   ]
  },
  {
   "cell_type": "code",
   "execution_count": null,
   "id": "3f3dba3c",
   "metadata": {},
   "outputs": [],
   "source": [
    "if \"ghostnet\" in TEZOS_RPC:\n",
    "    mavryk_xtz_usd = ptz.contract(\"KT1C1sYNxacr8LPZimA512gAfWajdGah75nq\")\n",
    "    oracle_source = \"../utils/mavryk_oracle.tz\"\n",
    "    oracle_storage = {\n",
    "        'owner': alice.public_key_hash(),\n",
    "        'satellite': mavryk_xtz_usd.address\n",
    "    }\n",
    "else:\n",
    "    print(\"Mavryk oracles are only available on Ghostnet\")"
   ]
  },
  {
   "cell_type": "markdown",
   "id": "03e42b0c",
   "metadata": {},
   "source": [
    "Alternatively, a dummy oracle is available in `checker_dir/utils/mock_oracle.mligo`."
   ]
  },
  {
   "cell_type": "code",
   "execution_count": null,
   "id": "dc0bdf2f",
   "metadata": {},
   "outputs": [],
   "source": [
    "oracle_source = \"../utils/mock_oracle.tz\"\n",
    "oracle_storage={'owner': alice.public_key_hash(), 'price': (1, 1)}   # Initial price of 1 tok/kit"
   ]
  },
  {
   "cell_type": "code",
   "execution_count": null,
   "id": "d5ea1379",
   "metadata": {},
   "outputs": [],
   "source": [
    "oracle = checker.deploy_contract(ptz, source_file=oracle_source, initial_storage=oracle_storage)"
   ]
  },
  {
   "cell_type": "markdown",
   "id": "de0b705b",
   "metadata": {},
   "source": [
    "Next, we can deploy all our contracts for later use. Note that we're deploying our own version of Ctez on the testnet, for demonstration purpose."
   ]
  },
  {
   "cell_type": "code",
   "execution_count": null,
   "id": "d0c5facc",
   "metadata": {},
   "outputs": [],
   "source": [
    "ctez_contracts = checker.deploy_ctez(ptz, conf)\n",
    "cfmm = checker.deploy_contract(ptz, source_file=\"../utils/mock_cfmm_oracle.tz\",\n",
    "                               initial_storage={'owner': alice.public_key_hash(),\n",
    "                                                'price': (1, 1)})\n",
    "wtez = checker.deploy_wtez(ptz, conf)\n",
    "wctez = checker.deploy_wctez(ptz,\n",
    "                             conf,\n",
    "                             ctez_fa12_address=ctez_contracts[\"fa12_ctez\"].address)"
   ]
  },
  {
   "cell_type": "markdown",
   "id": "2242cf72",
   "metadata": {},
   "source": [
    "And now, Checker. Checker is a big contract, made of several entrypoints that are independently deployed to a big map (sometimes in several chunks).\n",
    "\n",
    "Initially, Checker is deployed in an \"Unsealed\" state; in this state, it isn't possible to use the contract, but it is possible to deploy the various entrypoints. Once every entrypoint is deployed, it is possible to seal the contract."
   ]
  },
  {
   "cell_type": "code",
   "execution_count": null,
   "id": "db0e436a",
   "metadata": {},
   "outputs": [],
   "source": [
    "ch = checker.deploy_checker(ptz, conf, oracle=oracle, collateral_fa2=wtez,\n",
    "                       cfmm_token_fa2=wctez, ctez_cfmm=ctez_contracts[\"cfmm\"])"
   ]
  },
  {
   "cell_type": "markdown",
   "id": "296db9a9",
   "metadata": {},
   "source": [
    "PyTezos makes it easy to inspect the storage of our various smart contracts, which gives information such as the state of the CFMM or the current drift.\n",
    "\n",
    "However, some information are stored in big maps, which are only shown here by a number (e.g., `lazy_functions` or FA2 `ledger`). We shall revisit them later in this tutorial."
   ]
  },
  {
   "cell_type": "code",
   "execution_count": null,
   "id": "57ac613d",
   "metadata": {},
   "outputs": [],
   "source": [
    "ch.storage()"
   ]
  },
  {
   "cell_type": "markdown",
   "id": "94653c8b",
   "metadata": {},
   "source": [
    "PyTezos also lets us access the views of the contract. For now, Checker views are stored in the contract's metadata and as on-chain views, but this could change in the future."
   ]
  },
  {
   "cell_type": "code",
   "execution_count": null,
   "id": "01935200",
   "metadata": {},
   "outputs": [],
   "source": [
    "ch.views"
   ]
  },
  {
   "cell_type": "markdown",
   "id": "ce12428c",
   "metadata": {},
   "source": [
    "## Minting some fake-Ctez"
   ]
  },
  {
   "cell_type": "markdown",
   "id": "c242e9ce",
   "metadata": {},
   "source": [
    "[Ctez](https://ctez.app/) is a simpler version of Checker, which was released after Checker but is now used to provide a tez-based collateral to Checker's CFMM. In this tutorial, we're using our own Ctez contract — of course, in production, make sure to use the actual Ctez contract.\n",
    "\n",
    "As a warm-up and a short introduction, we're going to create a Ctez oven, deposit some XTZ in it and mint some ctez. Let's call the corresponding entrypoint, `create`. Remember that you can get some documentation about the entrypoints names and arguments detected by PyTezos by doing `contract.entrypoint?` in Jupyter."
   ]
  },
  {
   "cell_type": "code",
   "execution_count": null,
   "id": "3ea6cf8a",
   "metadata": {},
   "outputs": [],
   "source": [
    "do_it(ctez_contracts[\"ctez\"].create(\n",
    "    {\"id\": 0, \"delegate\": None, \"depositors\":{\"any\": None}\n",
    "}))"
   ]
  },
  {
   "cell_type": "markdown",
   "id": "fd9f7f50",
   "metadata": {},
   "source": [
    "To get the oven address, we have to the `ovens` big map. In the future, we'll provide helpers with this in the Checker library."
   ]
  },
  {
   "cell_type": "code",
   "execution_count": null,
   "id": "cf96a10b",
   "metadata": {},
   "outputs": [],
   "source": [
    "ovens_id = ctez_contracts[\"ctez\"].storage()[\"ovens\"]\n",
    "ovens = ptz.shell.head.context.big_maps[ovens_id]()\n",
    "my_oven = ovens[0][\"args\"][0][\"args\"][0][\"string\"]\n",
    "ovens"
   ]
  },
  {
   "cell_type": "code",
   "execution_count": null,
   "id": "5dc28a5f",
   "metadata": {},
   "outputs": [],
   "source": [
    "my_oven"
   ]
  },
  {
   "cell_type": "code",
   "execution_count": null,
   "id": "079c4dc5",
   "metadata": {},
   "outputs": [],
   "source": [
    "my_oven = ptz.contract(my_oven)"
   ]
  },
  {
   "cell_type": "code",
   "execution_count": null,
   "id": "fd371735",
   "metadata": {},
   "outputs": [],
   "source": [
    "do_it(my_oven.default(), amount=int(4e6))\n",
    "# Transfer 4tez to the oven"
   ]
  },
  {
   "cell_type": "code",
   "execution_count": null,
   "id": "caa02401",
   "metadata": {},
   "outputs": [],
   "source": [
    "do_it(ctez_contracts[\"ctez\"].mint_or_burn({\"id\":0, \"quantity\":int(2e6)}))\n",
    "# Mint 2ctez"
   ]
  },
  {
   "cell_type": "markdown",
   "id": "6a24b576",
   "metadata": {},
   "source": [
    "We can inspect the big map corresponding to Ctez ledger as such:"
   ]
  },
  {
   "cell_type": "code",
   "execution_count": null,
   "id": "e4ebb746",
   "metadata": {},
   "outputs": [],
   "source": [
    "ctez_fa12_id = ctez_contracts[\"fa12_ctez\"].storage()[\"tokens\"]\n",
    "ptz.shell.head.context.big_maps[ctez_fa12_id]()"
   ]
  },
  {
   "cell_type": "markdown",
   "id": "e0f572d9",
   "metadata": {},
   "source": [
    "Let's provide some liquidity to Ctez CFMM."
   ]
  },
  {
   "cell_type": "code",
   "execution_count": null,
   "id": "56d67817",
   "metadata": {},
   "outputs": [],
   "source": [
    "ctez_cfmm_storage = ctez_contracts[\"cfmm\"].storage()\n",
    "ctez_cfmm_storage"
   ]
  },
  {
   "cell_type": "code",
   "execution_count": null,
   "id": "3b9e4b11",
   "metadata": {},
   "outputs": [],
   "source": [
    "deposited = int(1e6)  # 1ctez\n",
    "lqt_minted = int(deposited * ctez_cfmm_storage[\"lqtTotal\"] / ctez_cfmm_storage[\"cashPool\"])"
   ]
  },
  {
   "cell_type": "markdown",
   "id": "7adf49c7",
   "metadata": {},
   "source": [
    "Don't forget to allow smart contracts to handle your tokens by doing:"
   ]
  },
  {
   "cell_type": "code",
   "execution_count": null,
   "id": "8a2af8ad",
   "metadata": {},
   "outputs": [],
   "source": [
    "add_allowance_fa12(ctez_contracts[\"fa12_ctez\"],\n",
    "                   ctez_contracts[\"cfmm\"],\n",
    "                   deposited)"
   ]
  },
  {
   "cell_type": "code",
   "execution_count": null,
   "id": "8a6a71c2",
   "metadata": {},
   "outputs": [],
   "source": [
    "do_it(ctez_contracts[\"cfmm\"].addLiquidity({\n",
    "    \"owner\": alice.public_key_hash(),\n",
    "    \"maxCashDeposited\": deposited,   # Ctez deposited\n",
    "    \"minLqtMinted\": lqt_minted-1,\n",
    "    \"deadline\": int(time.time() + 15)\n",
    "}), amount=deposited)   # XTZ deposited"
   ]
  },
  {
   "cell_type": "markdown",
   "id": "7633108c",
   "metadata": {},
   "source": [
    "Check that the CFMM has the correct liquidity:"
   ]
  },
  {
   "cell_type": "code",
   "execution_count": null,
   "id": "413d5d7f",
   "metadata": {},
   "outputs": [],
   "source": [
    "ctez_contracts[\"cfmm\"].storage()"
   ]
  },
  {
   "cell_type": "markdown",
   "id": "71b3d472",
   "metadata": {},
   "source": [
    "## Using XTZ as collateral in Checker"
   ]
  },
  {
   "cell_type": "markdown",
   "id": "a2bda330",
   "metadata": {},
   "source": [
    "Checker accepts a FA2 token as collateral. Depending the application you want to develop, it may be reasonable to use various tokens, including a new one. In the future, we will provide several examples.\n",
    "\n",
    "The version of Checker we have deployed uses Wtez as collateral, a simple wrapper for XTZ:"
   ]
  },
  {
   "cell_type": "code",
   "execution_count": null,
   "id": "ac5ea0a4",
   "metadata": {},
   "outputs": [],
   "source": [
    "ch.address"
   ]
  },
  {
   "cell_type": "code",
   "execution_count": null,
   "id": "1b3ae082",
   "metadata": {},
   "outputs": [],
   "source": [
    "wtez.address"
   ]
  },
  {
   "cell_type": "code",
   "execution_count": null,
   "id": "564c92b3",
   "metadata": {},
   "outputs": [],
   "source": [
    "ch.storage()[\"deployment_state\"][\"sealed\"][\"external_contracts\"][\"collateral_fa2\"]"
   ]
  },
  {
   "cell_type": "code",
   "execution_count": null,
   "id": "fefbed97",
   "metadata": {},
   "outputs": [],
   "source": [
    "do_it(wtez.deposit(), amount=int(5e7))"
   ]
  },
  {
   "cell_type": "markdown",
   "id": "f0707bd1",
   "metadata": {},
   "source": [
    "We can then use the collateral to create a burrow — Checker's equivalent of an oven. Note that a minimum quantity of token for a deposit is defined at compile-time in Checker, in `src/constants.mligo`."
   ]
  },
  {
   "cell_type": "code",
   "execution_count": null,
   "id": "c6305a1d",
   "metadata": {},
   "outputs": [],
   "source": [
    "add_operator_fa2(alice, ch.address, wtez, 2)"
   ]
  },
  {
   "cell_type": "code",
   "execution_count": null,
   "id": "2e6eb675",
   "metadata": {},
   "outputs": [],
   "source": [
    "do_it(ch.create_burrow((0, None, int(1e6))))"
   ]
  },
  {
   "cell_type": "markdown",
   "id": "7d4cd3f6",
   "metadata": {},
   "source": [
    "We now have 1 burrow, in which we can deposit more wtez to mint some kits."
   ]
  },
  {
   "cell_type": "code",
   "execution_count": null,
   "id": "2c6c2e13",
   "metadata": {},
   "outputs": [],
   "source": [
    "burrows_id = ch.storage()[\"deployment_state\"][\"sealed\"][\"burrows\"]\n",
    "ptz.shell.head.context.big_maps[burrows_id]()"
   ]
  },
  {
   "cell_type": "code",
   "execution_count": null,
   "id": "6e33ed3f",
   "metadata": {},
   "outputs": [],
   "source": [
    "ch.storage()"
   ]
  },
  {
   "cell_type": "code",
   "execution_count": null,
   "id": "2c4f681d",
   "metadata": {},
   "outputs": [],
   "source": [
    "do_it(ch.deposit_collateral(0, int(49e6)))  # We have 49wtez left (1 was deposited when we created the burrow)"
   ]
  },
  {
   "cell_type": "markdown",
   "id": "2e8455e4",
   "metadata": {},
   "source": [
    "So far, we never updated the system, so Checker considers that 1 kit is worth 1 tok. However, Checker requires burrows to be overcollateralized by a certain amount, which defined as `fminting` in `src/constants.mligo`.\n",
    "\n",
    "By default, `fminting=210%`, which means that our burrow would have barely enough collateral if we mint the following quantity of kits:"
   ]
  },
  {
   "cell_type": "code",
   "execution_count": null,
   "id": "ee1ee8df",
   "metadata": {},
   "outputs": [],
   "source": [
    "do_it(ch.mint_kit(0, int((10/21)*49e6)))"
   ]
  },
  {
   "cell_type": "code",
   "execution_count": null,
   "id": "137cb1c5",
   "metadata": {},
   "outputs": [],
   "source": [
    "alice.public_key_hash()"
   ]
  },
  {
   "cell_type": "markdown",
   "id": "09071d6a",
   "metadata": {},
   "source": [
    "Just for sanity, we can check that this burrow is not already under-collateralized. This is done by calling one of the on-chain views, `is_burrow_overburrowed`, which takes the burrow `big_map` key as arguments (Alice's address and the burrow's id). Calling the view through the RPC is enough, we don't need to send an operation."
   ]
  },
  {
   "cell_type": "code",
   "execution_count": null,
   "id": "f384d2f1",
   "metadata": {},
   "outputs": [],
   "source": [
    "ch.is_burrow_overburrowed(alice.public_key_hash(), 0).onchain_view()"
   ]
  },
  {
   "cell_type": "code",
   "execution_count": null,
   "id": "c12f718d",
   "metadata": {},
   "outputs": [],
   "source": [
    "kit_ledger_id = ch.storage()[\"deployment_state\"][\"sealed\"][\"fa2_state\"][\"ledger\"]"
   ]
  },
  {
   "cell_type": "code",
   "execution_count": null,
   "id": "1ce0159a",
   "metadata": {},
   "outputs": [],
   "source": [
    "ptz.shell.head.context.big_maps[kit_ledger_id]()"
   ]
  },
  {
   "cell_type": "markdown",
   "id": "347a3a4c",
   "metadata": {},
   "source": [
    "We still have some Ctez too, let's add Kit + Ctez to Checker CFMM. Checker CFMM currently only supports FA2, so we have to wrap Ctez into Wctez first."
   ]
  },
  {
   "cell_type": "code",
   "execution_count": null,
   "id": "41037f85",
   "metadata": {},
   "outputs": [],
   "source": [
    "wctz = int(1e6)"
   ]
  },
  {
   "cell_type": "code",
   "execution_count": null,
   "id": "bed77c79",
   "metadata": {},
   "outputs": [],
   "source": [
    "add_allowance_fa12(ctez_contracts[\"fa12_ctez\"], wctez, wctz)"
   ]
  },
  {
   "cell_type": "code",
   "execution_count": null,
   "id": "3a6bd964",
   "metadata": {},
   "outputs": [],
   "source": [
    "do_it(wctez.mint(wctz))"
   ]
  },
  {
   "cell_type": "code",
   "execution_count": null,
   "id": "c82f3beb",
   "metadata": {},
   "outputs": [],
   "source": [
    "ptz.shell.head.context.big_maps[kit_ledger_id]()"
   ]
  },
  {
   "cell_type": "code",
   "execution_count": null,
   "id": "3f1e7e7b",
   "metadata": {},
   "outputs": [],
   "source": [
    "add_operator_fa2(owner=alice, address=ch.address, token=wctez, token_id=3)"
   ]
  },
  {
   "cell_type": "code",
   "execution_count": null,
   "id": "d38b857b",
   "metadata": {},
   "outputs": [],
   "source": [
    "kits = wctz\n",
    "lqt = wctz\n",
    "deadline = int(time.time() + 10)\n",
    "do_it(ch.add_liquidity(wctz, kits, lqt, deadline))"
   ]
  },
  {
   "cell_type": "code",
   "execution_count": null,
   "id": "89dc0eb6",
   "metadata": {},
   "outputs": [],
   "source": [
    "ch.storage()"
   ]
  },
  {
   "cell_type": "code",
   "execution_count": null,
   "id": "b2945b8a",
   "metadata": {},
   "outputs": [],
   "source": [
    "ptz.shell.head.context.big_maps[kit_ledger_id]()"
   ]
  },
  {
   "cell_type": "code",
   "execution_count": null,
   "id": "17ae8cfe",
   "metadata": {},
   "outputs": [],
   "source": [
    "kits_to_sell = int(1.7e7)"
   ]
  },
  {
   "cell_type": "markdown",
   "id": "fd29a08a",
   "metadata": {},
   "source": [
    "### TODO\n",
    "\n",
    "CFMM formulas"
   ]
  },
  {
   "cell_type": "code",
   "execution_count": null,
   "id": "077cfb86",
   "metadata": {},
   "outputs": [],
   "source": [
    "min_ctoks = int(kits_to_sell * (wctz / kits) * (kits / (kits + kits_to_sell)) * (1 - 0.002))"
   ]
  },
  {
   "cell_type": "code",
   "execution_count": null,
   "id": "5b44d25e",
   "metadata": {},
   "outputs": [],
   "source": [
    "deadline = int(time.time() + 15)\n",
    "do_it(ch.sell_kit(kits_to_sell, min_ctoks, deadline))"
   ]
  },
  {
   "cell_type": "code",
   "execution_count": null,
   "id": "8f771386",
   "metadata": {},
   "outputs": [],
   "source": [
    "ptz.shell.head.context.big_maps[kit_ledger_id]()"
   ]
  },
  {
   "cell_type": "code",
   "execution_count": null,
   "id": "91aa919e",
   "metadata": {},
   "outputs": [],
   "source": [
    "ch.storage()"
   ]
  },
  {
   "cell_type": "code",
   "execution_count": null,
   "id": "5fd6dd3a",
   "metadata": {},
   "outputs": [],
   "source": [
    "ch.is_burrow_overburrowed(alice.public_key_hash(), 0).onchain_view()"
   ]
  },
  {
   "cell_type": "code",
   "execution_count": null,
   "id": "bef429e0",
   "metadata": {},
   "outputs": [],
   "source": [
    "time.sleep(5.)\n",
    "do_it(ch.touch())"
   ]
  },
  {
   "cell_type": "code",
   "execution_count": null,
   "id": "86593125",
   "metadata": {},
   "outputs": [],
   "source": [
    "ch.storage()"
   ]
  },
  {
   "cell_type": "markdown",
   "id": "9b678d31",
   "metadata": {},
   "source": [
    "Notice that Checker has paid us in freshly-minted kits for calling `touch`"
   ]
  },
  {
   "cell_type": "code",
   "execution_count": null,
   "id": "4c9ba73e",
   "metadata": {},
   "outputs": [],
   "source": [
    "ptz.shell.head.context.big_maps[kit_ledger_id]()"
   ]
  },
  {
   "cell_type": "code",
   "execution_count": null,
   "id": "06f184a3",
   "metadata": {},
   "outputs": [],
   "source": [
    "ch.views"
   ]
  },
  {
   "cell_type": "code",
   "execution_count": null,
   "id": "a03bbee4",
   "metadata": {},
   "outputs": [],
   "source": [
    "ch.is_burrow_overburrowed(alice.public_key_hash(), 0).onchain_view()"
   ]
  },
  {
   "cell_type": "code",
   "execution_count": null,
   "id": "2ed769c9",
   "metadata": {},
   "outputs": [],
   "source": []
  },
  {
   "cell_type": "code",
   "execution_count": null,
   "id": "964ee4f8",
   "metadata": {},
   "outputs": [],
   "source": []
  },
  {
   "cell_type": "code",
   "execution_count": null,
   "id": "546f9b27",
   "metadata": {},
   "outputs": [],
   "source": []
  },
  {
   "cell_type": "code",
   "execution_count": null,
   "id": "1809ee6e",
   "metadata": {},
   "outputs": [],
   "source": []
  },
  {
   "cell_type": "code",
   "execution_count": null,
   "id": "55236a76",
   "metadata": {},
   "outputs": [],
   "source": []
  }
 ],
 "metadata": {
  "kernelspec": {
   "display_name": "Python 3 (ipykernel)",
   "language": "python",
   "name": "python3"
  },
  "language_info": {
   "codemirror_mode": {
    "name": "ipython",
    "version": 3
   },
   "file_extension": ".py",
   "mimetype": "text/x-python",
   "name": "python",
   "nbconvert_exporter": "python",
   "pygments_lexer": "ipython3",
   "version": "3.10.8"
  }
 },
 "nbformat": 4,
 "nbformat_minor": 5
}
