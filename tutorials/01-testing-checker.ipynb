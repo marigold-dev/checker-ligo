{
 "cells": [
  {
   "cell_type": "markdown",
   "id": "5abc37c7",
   "metadata": {},
   "source": [
    "# Basic usage of Ctez and Checker\n",
    "\n",
    "In this notebook, we're going to show how to compile, deploy and test the Checker library using Python and the [PyTezos](pytezos.org/) library."
   ]
  },
  {
   "cell_type": "markdown",
   "id": "c5863ff7",
   "metadata": {},
   "source": [
    "We assume that the `checker` package was installed in the current environment, that the LIGO compiler is available, as a command with the name `ligo`, and that a Tezos RPC node is available at the following url:"
   ]
  },
  {
   "cell_type": "code",
   "execution_count": null,
   "id": "20d5913a",
   "metadata": {},
   "outputs": [],
   "source": [
    "TEZOS_RPC=\"http://localhost:20000\""
   ]
  },
  {
   "cell_type": "markdown",
   "id": "8cca3032",
   "metadata": {},
   "source": [
    "\n",
    "\n",
    "As this notebook is versioned, we recommend duplicating it before any modification."
   ]
  },
  {
   "cell_type": "markdown",
   "id": "577d0109",
   "metadata": {},
   "source": [
    "Let's define a few helpers for PyTezos:"
   ]
  },
  {
   "cell_type": "code",
   "execution_count": null,
   "id": "a100e9d3",
   "metadata": {},
   "outputs": [],
   "source": [
    "import pytezos as tz\n",
    "import time\n",
    "from checker_tools.client.operations import inject\n",
    "\n",
    "alice = tz.Key.from_encoded_key(\"edsk3QoqBuvdamxouPhin7swCvkQNgq4jP5KZPbwWNnwdZpSpJiEbq\")"
   ]
  },
  {
   "cell_type": "code",
   "execution_count": null,
   "id": "40a6bfa1",
   "metadata": {},
   "outputs": [],
   "source": [
    "alice.public_key_hash()"
   ]
  },
  {
   "cell_type": "code",
   "execution_count": null,
   "id": "84023510",
   "metadata": {},
   "outputs": [],
   "source": [
    "ptz = tz.pytezos.using(TEZOS_RPC, alice)"
   ]
  },
  {
   "cell_type": "code",
   "execution_count": null,
   "id": "0e45daa6",
   "metadata": {},
   "outputs": [],
   "source": [
    "ptz.balance()"
   ]
  },
  {
   "cell_type": "code",
   "execution_count": null,
   "id": "7ad1af70",
   "metadata": {},
   "outputs": [],
   "source": [
    "def do_it(call, amount=None):\n",
    "    \"\"\"Calls an entrypoint, optionally sending an amount of mutez\"\"\"\n",
    "    if amount is not None:\n",
    "            call = call.with_amount(amount)\n",
    "    tx = call.as_transaction()\n",
    "    inject(ptz, tx.autofill(ttl=None).sign())\n",
    "    \n",
    "def add_operator_fa2(owner, address, token, token_id):\n",
    "    return do_it(token.update_operators([{\n",
    "        \"add_operator\": {\n",
    "            \"owner\": owner.public_key_hash(),\n",
    "            \"operator\": address,\n",
    "            \"token_id\": token_id\n",
    "        }\n",
    "    }]))\n",
    "\n",
    "def add_allowance_fa12(token, spender, quantity):\n",
    "    return do_it(token.approve({\n",
    "        \"spender\": spender.address,\n",
    "        \"value\": quantity\n",
    "        })\n",
    "    )\n",
    "\n",
    "def now_plus_10():\n",
    "    return int(time.time() + 10)"
   ]
  },
  {
   "cell_type": "markdown",
   "id": "a786e77b",
   "metadata": {},
   "source": [
    "## Building and deploying"
   ]
  },
  {
   "cell_type": "code",
   "execution_count": null,
   "id": "76c9f6c1",
   "metadata": {},
   "outputs": [],
   "source": [
    "from checker_tools.client.compilation import compile_everything\n",
    "from checker_tools.builder.config import CheckerRepo\n",
    "from checker_tools.client import checker"
   ]
  },
  {
   "cell_type": "markdown",
   "id": "a0a1c2d6",
   "metadata": {},
   "source": [
    "Note that you probably won't be able to compile from a parent directory with a dockerized `ligo`."
   ]
  },
  {
   "cell_type": "code",
   "execution_count": null,
   "id": "4202e2e9",
   "metadata": {},
   "outputs": [],
   "source": [
    "conf = CheckerRepo(\"..\")\n",
    "conf.default_config\n"
   ]
  },
  {
   "cell_type": "code",
   "execution_count": null,
   "id": "30232d5c",
   "metadata": {},
   "outputs": [],
   "source": [
    "compile_everything(out_dir=\"generated/michelson\",\n",
    "                   src_dir=conf.src,\n",
    "                   vendor_dir=\"../vendor\")"
   ]
  },
  {
   "cell_type": "markdown",
   "id": "de0b705b",
   "metadata": {},
   "source": [
    "Next, we can deploy our contracts, for later use."
   ]
  },
  {
   "cell_type": "code",
   "execution_count": null,
   "id": "d0c5facc",
   "metadata": {},
   "outputs": [],
   "source": [
    "ctez_contracts = checker.deploy_ctez(ptz, conf)\n",
    "oracle = checker.deploy_contract(ptz, source_file=\"../utils/mock_oracle.tz\",\n",
    "                                 initial_storage={'owner': alice.public_key_hash(),\n",
    "                                                  'price': (1, 1)})\n",
    "cfmm = checker.deploy_contract(ptz, source_file=\"../utils/mock_cfmm_oracle.tz\",\n",
    "                               initial_storage={'owner': alice.public_key_hash(),\n",
    "                                                'price': (1, 1)})\n",
    "wtez = checker.deploy_wtez(ptz, conf)\n",
    "wctez = checker.deploy_wctez(ptz,\n",
    "                             conf,\n",
    "                             ctez_fa12_address=ctez_contracts[\"fa12_ctez\"].address)"
   ]
  },
  {
   "cell_type": "markdown",
   "id": "2242cf72",
   "metadata": {},
   "source": [
    "And now, Checker. Checker is a big contract, made of several entrypoints that are independently deployed to a big map (sometimes in several chunks).\n",
    "\n",
    "Initially, Checker is deployed in an \"Unsealed\" state; in this state, it isn't possible to use the contract, but it is possible to deploy the various entrypoints.\n",
    "\n",
    "Once every entrypoint is deployed, it is possible to seal the contract."
   ]
  },
  {
   "cell_type": "code",
   "execution_count": null,
   "id": "db0e436a",
   "metadata": {},
   "outputs": [],
   "source": [
    "ch = checker.deploy_checker(ptz, conf, oracle=oracle, collateral_fa2=wtez,\n",
    "                       cfmm_token_fa2=wctez, ctez_cfmm=ctez_contracts[\"cfmm\"])"
   ]
  },
  {
   "cell_type": "code",
   "execution_count": null,
   "id": "c51ed264",
   "metadata": {},
   "outputs": [],
   "source": [
    "ch.storage()"
   ]
  },
  {
   "cell_type": "code",
   "execution_count": null,
   "id": "229b8e27",
   "metadata": {},
   "outputs": [],
   "source": []
  }
 ],
 "metadata": {
  "kernelspec": {
   "display_name": "Python 3 (ipykernel)",
   "language": "python",
   "name": "python3"
  },
  "language_info": {
   "codemirror_mode": {
    "name": "ipython",
    "version": 3
   },
   "file_extension": ".py",
   "mimetype": "text/x-python",
   "name": "python",
   "nbconvert_exporter": "python",
   "pygments_lexer": "ipython3",
   "version": "3.10.8"
  }
 },
 "nbformat": 4,
 "nbformat_minor": 5
}
