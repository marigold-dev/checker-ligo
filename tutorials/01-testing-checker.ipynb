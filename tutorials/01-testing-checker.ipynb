{
 "cells": [
  {
   "cell_type": "markdown",
   "id": "1f97b502",
   "metadata": {},
   "source": [
    "Execute the following cell to change the width of the Jupyter cells:"
   ]
  },
  {
   "cell_type": "code",
   "execution_count": 1,
   "id": "a74b7792",
   "metadata": {},
   "outputs": [
    {
     "data": {
      "text/html": [
       "<style>.container { width:100% !important; }</style>"
      ],
      "text/plain": [
       "<IPython.core.display.HTML object>"
      ]
     },
     "metadata": {},
     "output_type": "display_data"
    }
   ],
   "source": [
    "from IPython.display import display, HTML\n",
    "display(HTML(\"<style>.container { width:100% !important; }</style>\"))"
   ]
  },
  {
   "cell_type": "markdown",
   "id": "5abc37c7",
   "metadata": {},
   "source": [
    "# Basic usage of Ctez and Checker\n",
    "\n",
    "In this notebook, we're going to show how to compile, deploy and use the Checker library using Python and the [PyTezos](pytezos.org/) library."
   ]
  },
  {
   "cell_type": "markdown",
   "id": "c5863ff7",
   "metadata": {},
   "source": [
    "We assume that the `checker` package was installed in the current environment with `python setup.py install`, that the LIGO compiler is available, as a command with the name `ligo`, and that a Tezos RPC node is available at the following url:"
   ]
  },
  {
   "cell_type": "code",
   "execution_count": 66,
   "id": "a951d679",
   "metadata": {},
   "outputs": [],
   "source": [
    "TEZOS_RPC=\"https://ghostnet.tezos.marigold.dev\""
   ]
  },
  {
   "cell_type": "markdown",
   "id": "321f6e22",
   "metadata": {},
   "source": [
    "If you run [Flextesa](https://tezos.gitlab.io/flextesa/), use this instead:"
   ]
  },
  {
   "cell_type": "code",
   "execution_count": 67,
   "id": "20d5913a",
   "metadata": {},
   "outputs": [],
   "source": [
    "TEZOS_RPC=\"http://localhost:20000\""
   ]
  },
  {
   "cell_type": "markdown",
   "id": "8cca3032",
   "metadata": {},
   "source": [
    "\n",
    "\n",
    "As this notebook is versioned, we recommend duplicating it before any modification."
   ]
  },
  {
   "cell_type": "markdown",
   "id": "577d0109",
   "metadata": {},
   "source": [
    "Let's define a few helpers for PyTezos:"
   ]
  },
  {
   "cell_type": "code",
   "execution_count": 2,
   "id": "a100e9d3",
   "metadata": {},
   "outputs": [],
   "source": [
    "import pytezos as tz\n",
    "import time\n",
    "from checker_tools.client.operations import inject\n",
    "\n",
    "alice = tz.Key.from_encoded_key(\"edsk3QoqBuvdamxouPhin7swCvkQNgq4jP5KZPbwWNnwdZpSpJiEbq\")"
   ]
  },
  {
   "cell_type": "code",
   "execution_count": 3,
   "id": "40a6bfa1",
   "metadata": {},
   "outputs": [
    {
     "data": {
      "text/plain": [
       "'tz1VSUr8wwNhLAzempoch5d6hLRiTh8Cjcjb'"
      ]
     },
     "execution_count": 3,
     "metadata": {},
     "output_type": "execute_result"
    }
   ],
   "source": [
    "alice.public_key_hash()"
   ]
  },
  {
   "cell_type": "code",
   "execution_count": 4,
   "id": "84023510",
   "metadata": {},
   "outputs": [],
   "source": [
    "ptz = tz.pytezos.using(TEZOS_RPC, alice)"
   ]
  },
  {
   "cell_type": "code",
   "execution_count": 5,
   "id": "0e45daa6",
   "metadata": {},
   "outputs": [
    {
     "data": {
      "text/plain": [
       "Decimal('1995667.474994')"
      ]
     },
     "execution_count": 5,
     "metadata": {},
     "output_type": "execute_result"
    }
   ],
   "source": [
    "ptz.balance()"
   ]
  },
  {
   "cell_type": "code",
   "execution_count": 6,
   "id": "7ad1af70",
   "metadata": {},
   "outputs": [],
   "source": [
    "def do_it(call, amount=None):\n",
    "    \"\"\"Calls an entrypoint, optionally sending an amount of mutez\"\"\"\n",
    "    if amount is not None:\n",
    "            call = call.with_amount(amount)\n",
    "    tx = call.as_transaction()\n",
    "    inject(ptz, tx.autofill(ttl=None).sign())\n",
    "    \n",
    "def add_operator_fa2(owner, address, token, token_id):\n",
    "    return do_it(token.update_operators([{\n",
    "        \"add_operator\": {\n",
    "            \"owner\": owner.public_key_hash(),\n",
    "            \"operator\": address,\n",
    "            \"token_id\": token_id\n",
    "        }\n",
    "    }]))\n",
    "\n",
    "def add_allowance_fa12(token, spender, quantity):\n",
    "    return do_it(token.approve({\n",
    "        \"spender\": spender.address,\n",
    "        \"value\": quantity\n",
    "        })\n",
    "    )\n",
    "\n",
    "def now_plus_10():\n",
    "    return int(time.time() + 10)"
   ]
  },
  {
   "cell_type": "markdown",
   "id": "a786e77b",
   "metadata": {},
   "source": [
    "## Deploying the contracts"
   ]
  },
  {
   "cell_type": "markdown",
   "id": "31538200",
   "metadata": {},
   "source": [
    "This notebook assumes that Checker, its dependencies and the mock contract have already been compiled. However, we strongly encourage you to compile the contracts yourself before deploying anything to production."
   ]
  },
  {
   "cell_type": "code",
   "execution_count": 7,
   "id": "76c9f6c1",
   "metadata": {},
   "outputs": [],
   "source": [
    "from checker_tools.builder.config import CheckerRepo\n",
    "from checker_tools.client import checker"
   ]
  },
  {
   "cell_type": "code",
   "execution_count": 8,
   "id": "4202e2e9",
   "metadata": {},
   "outputs": [
    {
     "data": {
      "text/plain": [
       "PosixPath('../checker.yaml')"
      ]
     },
     "execution_count": 8,
     "metadata": {},
     "output_type": "execute_result"
    }
   ],
   "source": [
    "conf = CheckerRepo(\"..\")\n",
    "conf.default_config"
   ]
  },
  {
   "cell_type": "markdown",
   "id": "de0b705b",
   "metadata": {},
   "source": [
    "Next, we can deploy all our contracts for later use."
   ]
  },
  {
   "cell_type": "code",
   "execution_count": 10,
   "id": "d0c5facc",
   "metadata": {},
   "outputs": [
    {
     "name": "stdout",
     "output_type": "stream",
     "text": [
      "Deploying ctez contract...\n",
      "Done.\n",
      "Deploying ctez FA1.2 contract...\n",
      "Done.\n",
      "Deploying ctez CFMM contract...\n",
      "Done.\n",
      "Deploying liquidity contract...\n",
      "Done.\n",
      "Setting liquidity address in CFMM contract...\n",
      "Done.\n",
      "Setting CFMM amd ctez FA1.2 addresses in ctez contract...\n",
      "Done.\n"
     ]
    },
    {
     "name": "stderr",
     "output_type": "stream",
     "text": [
      "Loading config from ../checker.yaml\n"
     ]
    },
    {
     "name": "stdout",
     "output_type": "stream",
     "text": [
      "Deploying the wtez contract.\n"
     ]
    },
    {
     "name": "stderr",
     "output_type": "stream",
     "text": [
      "Loading config from ../checker.yaml\n"
     ]
    },
    {
     "name": "stdout",
     "output_type": "stream",
     "text": [
      "Done.\n",
      "Tez Wrapper address: KT1Gw79r3aL2cPavpCmmowLpVS3uEtWoTU7t\n",
      "Deploying the wctez contract.\n",
      "Done.\n",
      "wctez address: KT1Sk7GEjYeUsuFzjj7ASF73zTxw6QZnRW5p\n"
     ]
    }
   ],
   "source": [
    "ctez_contracts = checker.deploy_ctez(ptz, conf)\n",
    "oracle = checker.deploy_contract(ptz, source_file=\"../utils/mock_oracle.tz\",\n",
    "                                 initial_storage={'owner': alice.public_key_hash(),\n",
    "                                                  'price': (1, 1)})\n",
    "cfmm = checker.deploy_contract(ptz, source_file=\"../utils/mock_cfmm_oracle.tz\",\n",
    "                               initial_storage={'owner': alice.public_key_hash(),\n",
    "                                                'price': (1, 1)})\n",
    "wtez = checker.deploy_wtez(ptz, conf)\n",
    "wctez = checker.deploy_wctez(ptz,\n",
    "                             conf,\n",
    "                             ctez_fa12_address=ctez_contracts[\"fa12_ctez\"].address)"
   ]
  },
  {
   "cell_type": "markdown",
   "id": "2242cf72",
   "metadata": {},
   "source": [
    "And now, Checker. Checker is a big contract, made of several entrypoints that are independently deployed to a big map (sometimes in several chunks).\n",
    "\n",
    "Initially, Checker is deployed in an \"Unsealed\" state; in this state, it isn't possible to use the contract, but it is possible to deploy the various entrypoints. Once every entrypoint is deployed, it is possible to seal the contract."
   ]
  },
  {
   "cell_type": "code",
   "execution_count": 11,
   "id": "db0e436a",
   "metadata": {},
   "outputs": [
    {
     "name": "stderr",
     "output_type": "stream",
     "text": [
      "Loading config from ../checker.yaml\n"
     ]
    },
    {
     "name": "stdout",
     "output_type": "stream",
     "text": [
      "Deploying the wrapper.\n",
      "Checker address: KT1HQWXqcBrjVMvD6uBDbqoCMMioAyuLMwFo\n",
      "Deploying the TZIP-16 metadata.\n",
      "Deploying TZIP-16 metadata: chunk 1 of 10\n",
      "Deploying TZIP-16 metadata: chunk 2 of 10\n",
      "Deploying TZIP-16 metadata: chunk 3 of 10\n",
      "Deploying TZIP-16 metadata: chunk 4 of 10\n",
      "Deploying TZIP-16 metadata: chunk 5 of 10\n",
      "Deploying TZIP-16 metadata: chunk 6 of 10\n",
      "Deploying TZIP-16 metadata: chunk 7 of 10\n",
      "Deploying TZIP-16 metadata: chunk 8 of 10\n",
      "Deploying TZIP-16 metadata: chunk 9 of 10\n",
      "Deploying TZIP-16 metadata: chunk 10 of 10\n",
      "Deploying: touch\n",
      "  deployed: chunk 0.\n",
      "  deployed: chunk 1.\n",
      "  deployed: chunk 2.\n",
      "  deployed: chunk 3.\n",
      "  deployed: chunk 4.\n",
      "Deploying: create_burrow\n",
      "  deployed: chunk 0.\n",
      "Deploying: deposit_collateral\n",
      "  deployed: chunk 0.\n",
      "Deploying: withdraw_collateral\n",
      "  deployed: chunk 0.\n",
      "Deploying: mint_kit\n",
      "  deployed: chunk 0.\n",
      "Deploying: burn_kit\n",
      "  deployed: chunk 0.\n",
      "Deploying: activate_burrow\n",
      "  deployed: chunk 0.\n",
      "Deploying: deactivate_burrow\n",
      "  deployed: chunk 0.\n",
      "Deploying: mark_for_liquidation\n",
      "  deployed: chunk 0.\n",
      "  deployed: chunk 1.\n",
      "Deploying: touch_liquidation_slices\n",
      "  deployed: chunk 0.\n",
      "  deployed: chunk 1.\n",
      "Deploying: cancel_liquidation_slice\n",
      "  deployed: chunk 0.\n",
      "Deploying: touch_burrow\n",
      "  deployed: chunk 0.\n",
      "Deploying: set_burrow_delegate\n",
      "  deployed: chunk 0.\n",
      "Deploying: buy_kit\n",
      "  deployed: chunk 0.\n",
      "Deploying: sell_kit\n",
      "  deployed: chunk 0.\n",
      "Deploying: add_liquidity\n",
      "  deployed: chunk 0.\n",
      "Deploying: remove_liquidity\n",
      "  deployed: chunk 0.\n",
      "Deploying: liquidation_auction_place_bid\n",
      "  deployed: chunk 0.\n",
      "Deploying: liquidation_auction_claim_win\n",
      "  deployed: chunk 0.\n",
      "Deploying: receive_price\n",
      "  deployed: chunk 0.\n",
      "Deploying: receive_ctez_marginal_price\n",
      "  deployed: chunk 0.\n",
      "Deploying: update_operators\n",
      "  deployed: chunk 0.\n",
      "Sealing.\n"
     ]
    }
   ],
   "source": [
    "ch = checker.deploy_checker(ptz, conf, oracle=oracle, collateral_fa2=wtez,\n",
    "                       cfmm_token_fa2=wctez, ctez_cfmm=ctez_contracts[\"cfmm\"])"
   ]
  },
  {
   "cell_type": "markdown",
   "id": "296db9a9",
   "metadata": {},
   "source": [
    "PyTezos makes it easy to inspect the storage of our various smart contracts, which gives information such as the state of the CFMM or the current drift.\n",
    "\n",
    "However, some information are stored in big maps, which are only shown here by a number (e.g., `lazy_functions` or FA2 `ledger`). We shall revisit them later in this tutorial."
   ]
  },
  {
   "cell_type": "code",
   "execution_count": 12,
   "id": "9a5b7d3c",
   "metadata": {},
   "outputs": [
    {
     "data": {
      "text/plain": [
       "{'lazy_functions': 105,\n",
       " 'metadata': 106,\n",
       " 'deployment_state': {'sealed': {'burrows': 107,\n",
       "   'cfmm': {'ctok': 1,\n",
       "    'kit': 1,\n",
       "    'kit_in_ctok_in_prev_block': {'den': 1, 'num': 1},\n",
       "    'last_level': 5112,\n",
       "    'lqt': 1},\n",
       "   'external_contracts': {'collateral_fa2': 'KT1Gw79r3aL2cPavpCmmowLpVS3uEtWoTU7t',\n",
       "    'ctez_cfmm': 'KT1HBVJ9HTdS5QSzc5nM6eSuC7CYLqrpdCpu',\n",
       "    'ctok_fa2': 'KT1Sk7GEjYeUsuFzjj7ASF73zTxw6QZnRW5p',\n",
       "    'oracle': 'KT1Cch5n6XTdBuLrWtTcZQKfzVRRUqy6Ux7b'},\n",
       "   'fa2_state': {'ledger': 108, 'operators': 109},\n",
       "   'last_ctez_in_tez': None,\n",
       "   'last_index': None,\n",
       "   'liquidation_auctions': {'avl_storage': {'last_ptr': 1, 'mem': 110},\n",
       "    'burrow_slices': 111,\n",
       "    'completed_auctions': None,\n",
       "    'current_auction': None,\n",
       "    'queued_slices': 1},\n",
       "   'parameters': {'burrow_fee_index': 18446744073709551616,\n",
       "    'circulating_kit': 0,\n",
       "    'drift': 0,\n",
       "    'drift_derivative': 0,\n",
       "    'imbalance_index': 18446744073709551616,\n",
       "    'index': 18446744073709551616,\n",
       "    'last_touched': 1681741920,\n",
       "    'outstanding_kit': 0,\n",
       "    'protected_index': 18446744073709551616,\n",
       "    'q': 18446744073709551616,\n",
       "    'target': 18446744073709551616}}}}"
      ]
     },
     "execution_count": 12,
     "metadata": {},
     "output_type": "execute_result"
    }
   ],
   "source": [
    "ch.storage()"
   ]
  },
  {
   "cell_type": "markdown",
   "id": "99062521",
   "metadata": {},
   "source": [
    "PyTezos also lets us access the views of the contract. For now, Checker views are stored in the contract's metadata and as on-chain views, but this could change in the future."
   ]
  },
  {
   "cell_type": "code",
   "execution_count": 13,
   "id": "e5bf3af3",
   "metadata": {},
   "outputs": [
    {
     "data": {
      "text/plain": [
       "{'buy_kit_min_kit': pytezos.michelson.micheline.ViewSection,\n",
       " 'sell_kit_min_ctok': pytezos.michelson.micheline.ViewSection,\n",
       " 'add_liquidity_max_kit': pytezos.michelson.micheline.ViewSection,\n",
       " 'add_liquidity_min_lqt': pytezos.michelson.micheline.ViewSection,\n",
       " 'remove_liquidity_min_ctok': pytezos.michelson.micheline.ViewSection,\n",
       " 'remove_liquidity_min_kit': pytezos.michelson.micheline.ViewSection,\n",
       " 'current_auction_details': pytezos.michelson.micheline.ViewSection,\n",
       " 'burrow_max_mintable_kit': pytezos.michelson.micheline.ViewSection,\n",
       " 'is_burrow_overburrowed': pytezos.michelson.micheline.ViewSection,\n",
       " 'is_burrow_liquidatable': pytezos.michelson.micheline.ViewSection,\n",
       " 'get_balance': pytezos.michelson.micheline.ViewSection,\n",
       " 'total_supply': pytezos.michelson.micheline.ViewSection,\n",
       " 'all_tokens': pytezos.michelson.micheline.ViewSection,\n",
       " 'is_operator': pytezos.michelson.micheline.ViewSection}"
      ]
     },
     "execution_count": 13,
     "metadata": {},
     "output_type": "execute_result"
    }
   ],
   "source": [
    "ch.views"
   ]
  },
  {
   "cell_type": "markdown",
   "id": "ce12428c",
   "metadata": {},
   "source": [
    "## Minting some Ctez"
   ]
  },
  {
   "cell_type": "markdown",
   "id": "c242e9ce",
   "metadata": {},
   "source": [
    "As a warm-up and a short introduction, we're going to create a Ctez oven, deposit some XTZ in it and mint some ctez. Let's call the corresponding entrypoint, `create`. Remember that you can get some documentation about the entrypoints names and arguments detected by PyTezos by doing `contract.entrypoint?` in Jupyter."
   ]
  },
  {
   "cell_type": "code",
   "execution_count": 14,
   "id": "3ea6cf8a",
   "metadata": {},
   "outputs": [],
   "source": [
    "do_it(ctez_contracts[\"ctez\"].create(\n",
    "    {\"id\": 0, \"delegate\": None, \"depositors\":{\"any\": None}\n",
    "}))"
   ]
  },
  {
   "cell_type": "markdown",
   "id": "fd9f7f50",
   "metadata": {},
   "source": [
    "To get the oven address, we have to the `ovens` big map. In the future, we'll provide helpers with this in the Checker library."
   ]
  },
  {
   "cell_type": "code",
   "execution_count": 15,
   "id": "cf96a10b",
   "metadata": {},
   "outputs": [
    {
     "data": {
      "text/plain": [
       "[{'prim': 'Pair',\n",
       "  'args': [{'prim': 'Pair',\n",
       "    'args': [{'string': 'KT1GgnmksSQAQWbf87QE8ppK6r6kjv92RfzD'},\n",
       "     {'int': '0'}]},\n",
       "   {'int': '0'}]}]"
      ]
     },
     "execution_count": 15,
     "metadata": {},
     "output_type": "execute_result"
    }
   ],
   "source": [
    "ovens_id = ctez_contracts[\"ctez\"].storage()[\"ovens\"]\n",
    "ovens = ptz.shell.head.context.big_maps[ovens_id]()\n",
    "my_oven = ovens[0][\"args\"][0][\"args\"][0][\"string\"]\n",
    "ovens"
   ]
  },
  {
   "cell_type": "code",
   "execution_count": 16,
   "id": "5dc28a5f",
   "metadata": {},
   "outputs": [
    {
     "data": {
      "text/plain": [
       "'KT1GgnmksSQAQWbf87QE8ppK6r6kjv92RfzD'"
      ]
     },
     "execution_count": 16,
     "metadata": {},
     "output_type": "execute_result"
    }
   ],
   "source": [
    "my_oven"
   ]
  },
  {
   "cell_type": "code",
   "execution_count": 17,
   "id": "079c4dc5",
   "metadata": {},
   "outputs": [],
   "source": [
    "my_oven = ptz.contract(my_oven)"
   ]
  },
  {
   "cell_type": "code",
   "execution_count": 18,
   "id": "fd371735",
   "metadata": {},
   "outputs": [],
   "source": [
    "do_it(my_oven.default(), amount=1000000000)\n",
    "# Transfer 1G mutez = 1K tez to the oven"
   ]
  },
  {
   "cell_type": "code",
   "execution_count": 19,
   "id": "caa02401",
   "metadata": {},
   "outputs": [],
   "source": [
    "do_it(ctez_contracts[\"ctez\"].mint_or_burn({\"id\":0, \"quantity\":int(1e8)}))\n",
    "# Mint 100 Ctez"
   ]
  },
  {
   "cell_type": "markdown",
   "id": "6a24b576",
   "metadata": {},
   "source": [
    "We can inspect the big map corresponding to Ctez ledger as such:"
   ]
  },
  {
   "cell_type": "code",
   "execution_count": 20,
   "id": "e4ebb746",
   "metadata": {},
   "outputs": [
    {
     "data": {
      "text/plain": [
       "[{'int': '100000000'}, {'int': '1'}]"
      ]
     },
     "execution_count": 20,
     "metadata": {},
     "output_type": "execute_result"
    }
   ],
   "source": [
    "ctez_fa12_id = ctez_contracts[\"fa12_ctez\"].storage()[\"tokens\"]\n",
    "ptz.shell.head.context.big_maps[ctez_fa12_id]()"
   ]
  },
  {
   "cell_type": "markdown",
   "id": "e0f572d9",
   "metadata": {},
   "source": [
    "Let's provide some liquidity to Ctez CFMM."
   ]
  },
  {
   "cell_type": "code",
   "execution_count": 21,
   "id": "56d67817",
   "metadata": {},
   "outputs": [
    {
     "data": {
      "text/plain": [
       "{'cashPool': 1,\n",
       " 'tezPool': 1,\n",
       " 'lqtTotal': 1,\n",
       " 'target': 281474976710656,\n",
       " 'ctez_address': 'KT1WUBfWjvxfjqVyo7QTCx2rXjkb8y6vBE7w',\n",
       " 'cashAddress': 'KT196m7DNUz3N4WVNxXecmS8hZH3KztXQTGR',\n",
       " 'lqtAddress': 'KT1WtvPDraDwc1BnfurZ3h7tjVEWTuiNJy3K',\n",
       " 'lastOracleUpdate': 1681741731,\n",
       " 'consumerEntrypoint': 'KT1WUBfWjvxfjqVyo7QTCx2rXjkb8y6vBE7w%cfmm_price'}"
      ]
     },
     "execution_count": 21,
     "metadata": {},
     "output_type": "execute_result"
    }
   ],
   "source": [
    "ctez_cfmm_storage = ctez_contracts[\"cfmm\"].storage()\n",
    "ctez_cfmm_storage"
   ]
  },
  {
   "cell_type": "code",
   "execution_count": 22,
   "id": "3b9e4b11",
   "metadata": {},
   "outputs": [],
   "source": [
    "deposited = int(1e7)  # 10 ctez\n",
    "lqt_minted = int(deposited * ctez_cfmm_storage[\"lqtTotal\"] / ctez_cfmm_storage[\"cashPool\"])"
   ]
  },
  {
   "cell_type": "markdown",
   "id": "7adf49c7",
   "metadata": {},
   "source": [
    "Don't forget to allow smart contracts to handle your tokens by doing:"
   ]
  },
  {
   "cell_type": "code",
   "execution_count": 23,
   "id": "8a2af8ad",
   "metadata": {},
   "outputs": [],
   "source": [
    "add_allowance_fa12(ctez_contracts[\"fa12_ctez\"],\n",
    "                   ctez_contracts[\"cfmm\"],\n",
    "                   deposited)"
   ]
  },
  {
   "cell_type": "code",
   "execution_count": 24,
   "id": "8a6a71c2",
   "metadata": {},
   "outputs": [],
   "source": [
    "do_it(ctez_contracts[\"cfmm\"].addLiquidity({\n",
    "    \"owner\": alice.public_key_hash(),\n",
    "    \"maxCashDeposited\": deposited,   # Ctez deposited\n",
    "    \"minLqtMinted\": lqt_minted-1,\n",
    "    \"deadline\": int(time.time() + 15)\n",
    "}), amount=deposited)   # XTZ deposited"
   ]
  },
  {
   "cell_type": "markdown",
   "id": "7633108c",
   "metadata": {},
   "source": [
    "Check that the CFMM has the correct liquidity:"
   ]
  },
  {
   "cell_type": "code",
   "execution_count": 25,
   "id": "413d5d7f",
   "metadata": {},
   "outputs": [
    {
     "data": {
      "text/plain": [
       "{'cashPool': 10000001,\n",
       " 'tezPool': 10000001,\n",
       " 'lqtTotal': 10000001,\n",
       " 'target': 281474976710656,\n",
       " 'ctez_address': 'KT1WUBfWjvxfjqVyo7QTCx2rXjkb8y6vBE7w',\n",
       " 'cashAddress': 'KT196m7DNUz3N4WVNxXecmS8hZH3KztXQTGR',\n",
       " 'lqtAddress': 'KT1WtvPDraDwc1BnfurZ3h7tjVEWTuiNJy3K',\n",
       " 'lastOracleUpdate': 1681741731,\n",
       " 'consumerEntrypoint': 'KT1WUBfWjvxfjqVyo7QTCx2rXjkb8y6vBE7w%cfmm_price'}"
      ]
     },
     "execution_count": 25,
     "metadata": {},
     "output_type": "execute_result"
    }
   ],
   "source": [
    "ctez_contracts[\"cfmm\"].storage()"
   ]
  },
  {
   "cell_type": "markdown",
   "id": "71b3d472",
   "metadata": {},
   "source": [
    "## Using XTZ as collateral in Checker"
   ]
  },
  {
   "cell_type": "markdown",
   "id": "a2bda330",
   "metadata": {},
   "source": [
    "Checker accepts a FA2 token as collateral. Depending the application you want to develop, it may be reasonable to use various tokens, including a new one. In the future, we will provide several examples.\n",
    "\n",
    "The version of Checker we have deployed uses Wtez as collateral, a simple wrapper for XTZ:"
   ]
  },
  {
   "cell_type": "code",
   "execution_count": 26,
   "id": "ac5ea0a4",
   "metadata": {},
   "outputs": [
    {
     "data": {
      "text/plain": [
       "'KT1HQWXqcBrjVMvD6uBDbqoCMMioAyuLMwFo'"
      ]
     },
     "execution_count": 26,
     "metadata": {},
     "output_type": "execute_result"
    }
   ],
   "source": [
    "ch.address"
   ]
  },
  {
   "cell_type": "code",
   "execution_count": 27,
   "id": "1b3ae082",
   "metadata": {},
   "outputs": [
    {
     "data": {
      "text/plain": [
       "'KT1Gw79r3aL2cPavpCmmowLpVS3uEtWoTU7t'"
      ]
     },
     "execution_count": 27,
     "metadata": {},
     "output_type": "execute_result"
    }
   ],
   "source": [
    "wtez.address"
   ]
  },
  {
   "cell_type": "code",
   "execution_count": 28,
   "id": "564c92b3",
   "metadata": {},
   "outputs": [
    {
     "data": {
      "text/plain": [
       "'KT1Gw79r3aL2cPavpCmmowLpVS3uEtWoTU7t'"
      ]
     },
     "execution_count": 28,
     "metadata": {},
     "output_type": "execute_result"
    }
   ],
   "source": [
    "ch.storage()[\"deployment_state\"][\"sealed\"][\"external_contracts\"][\"collateral_fa2\"]"
   ]
  },
  {
   "cell_type": "code",
   "execution_count": 29,
   "id": "fefbed97",
   "metadata": {},
   "outputs": [],
   "source": [
    "do_it(wtez.deposit(), amount=int(10e8))"
   ]
  },
  {
   "cell_type": "markdown",
   "id": "f0707bd1",
   "metadata": {},
   "source": [
    "We can then use the collateral to create a burrow — Checker's equivalent of an oven. Note that a minimum quantity of token for a deposit is defined at compile-time in Checker, in `src/constants.mligo`."
   ]
  },
  {
   "cell_type": "code",
   "execution_count": 30,
   "id": "c6305a1d",
   "metadata": {},
   "outputs": [],
   "source": [
    "add_operator_fa2(alice, ch.address, wtez, 2)"
   ]
  },
  {
   "cell_type": "code",
   "execution_count": 31,
   "id": "2e6eb675",
   "metadata": {},
   "outputs": [],
   "source": [
    "do_it(ch.create_burrow((0, None, 1000000)))"
   ]
  },
  {
   "cell_type": "markdown",
   "id": "7d4cd3f6",
   "metadata": {},
   "source": [
    "We now have 1 burrow, in which we can deposit more wtez to mint some kits."
   ]
  },
  {
   "cell_type": "code",
   "execution_count": 32,
   "id": "2c6c2e13",
   "metadata": {},
   "outputs": [
    {
     "data": {
      "text/plain": [
       "[{'prim': 'Pair',\n",
       "  'args': [{'prim': 'Pair',\n",
       "    'args': [{'prim': 'Pair',\n",
       "      'args': [{'prim': 'True'},\n",
       "       {'string': 'KT1BUqhM6tGpYhre9FkfH4MPmWqxAHbzJo5x'}]},\n",
       "     {'int': '18446744073709551616'},\n",
       "     {'int': '0'}]},\n",
       "   {'prim': 'Pair',\n",
       "    'args': [{'int': '0'}, {'string': '2023-04-17T14:32:00Z'}]},\n",
       "   {'int': '0'}]}]"
      ]
     },
     "execution_count": 32,
     "metadata": {},
     "output_type": "execute_result"
    }
   ],
   "source": [
    "burrows_id = ch.storage()[\"deployment_state\"][\"sealed\"][\"burrows\"]\n",
    "ptz.shell.head.context.big_maps[burrows_id]()"
   ]
  },
  {
   "cell_type": "code",
   "execution_count": 33,
   "id": "2c4f681d",
   "metadata": {},
   "outputs": [],
   "source": [
    "do_it(ch.deposit_collateral(0, int(10e7)))"
   ]
  },
  {
   "cell_type": "markdown",
   "id": "2e8455e4",
   "metadata": {},
   "source": [
    "Note that although we currently have 1kit = 1tez, Checker requires burrows to be overcollateralized by another compile-time constant, defined as `fminting` in `src/constants.mligo`.\n",
    "\n",
    "By default, `fminting=210%`, which means that our burrow would have barely enough collateral if we mint the following quantity of kits:"
   ]
  },
  {
   "cell_type": "code",
   "execution_count": 34,
   "id": "ee1ee8df",
   "metadata": {},
   "outputs": [],
   "source": [
    "do_it(ch.mint_kit(0, int((10/21)*10e7)))"
   ]
  },
  {
   "cell_type": "code",
   "execution_count": 35,
   "id": "137cb1c5",
   "metadata": {},
   "outputs": [
    {
     "data": {
      "text/plain": [
       "'tz1VSUr8wwNhLAzempoch5d6hLRiTh8Cjcjb'"
      ]
     },
     "execution_count": 35,
     "metadata": {},
     "output_type": "execute_result"
    }
   ],
   "source": [
    "alice.public_key_hash()"
   ]
  },
  {
   "cell_type": "markdown",
   "id": "56d7c72c",
   "metadata": {},
   "source": [
    "Just for sanity, we can check that this burrow is not already under-collateralized. This is done by calling one of the on-chain views, `is_burrow_overburrowed`, which takes the burrow `big_map` key as arguments (Alice's address and the burrow's id). Calling the view through the RPC is enough, we don't need to send an operation."
   ]
  },
  {
   "cell_type": "code",
   "execution_count": 36,
   "id": "30be7912",
   "metadata": {},
   "outputs": [
    {
     "data": {
      "text/plain": [
       "False"
      ]
     },
     "execution_count": 36,
     "metadata": {},
     "output_type": "execute_result"
    }
   ],
   "source": [
    "ch.is_burrow_overburrowed(alice.public_key_hash(), 0).onchain_view()"
   ]
  },
  {
   "cell_type": "code",
   "execution_count": 37,
   "id": "c12f718d",
   "metadata": {},
   "outputs": [],
   "source": [
    "kit_ledger_id = ch.storage()[\"deployment_state\"][\"sealed\"][\"fa2_state\"][\"ledger\"]"
   ]
  },
  {
   "cell_type": "code",
   "execution_count": 38,
   "id": "1ce0159a",
   "metadata": {},
   "outputs": [
    {
     "data": {
      "text/plain": [
       "[{'int': '47619047'}]"
      ]
     },
     "execution_count": 38,
     "metadata": {},
     "output_type": "execute_result"
    }
   ],
   "source": [
    "ptz.shell.head.context.big_maps[kit_ledger_id]()"
   ]
  },
  {
   "cell_type": "markdown",
   "id": "347a3a4c",
   "metadata": {},
   "source": [
    "We still have some Ctez too, let's add Kit + Ctez to Checker CFMM. Checker CFMM currently only supports FA2, so we have to wrap Ctez into Wctez first."
   ]
  },
  {
   "cell_type": "code",
   "execution_count": 39,
   "id": "41037f85",
   "metadata": {},
   "outputs": [],
   "source": [
    "wctz = int(3e7)"
   ]
  },
  {
   "cell_type": "code",
   "execution_count": 40,
   "id": "bed77c79",
   "metadata": {},
   "outputs": [],
   "source": [
    "add_allowance_fa12(ctez_contracts[\"fa12_ctez\"], wctez, wctz)"
   ]
  },
  {
   "cell_type": "code",
   "execution_count": 41,
   "id": "3a6bd964",
   "metadata": {},
   "outputs": [],
   "source": [
    "do_it(wctez.mint(wctz))"
   ]
  },
  {
   "cell_type": "code",
   "execution_count": 42,
   "id": "c82f3beb",
   "metadata": {},
   "outputs": [
    {
     "data": {
      "text/plain": [
       "[{'int': '47619047'}]"
      ]
     },
     "execution_count": 42,
     "metadata": {},
     "output_type": "execute_result"
    }
   ],
   "source": [
    "ptz.shell.head.context.big_maps[kit_ledger_id]()"
   ]
  },
  {
   "cell_type": "code",
   "execution_count": 43,
   "id": "3f1e7e7b",
   "metadata": {},
   "outputs": [],
   "source": [
    "add_operator_fa2(owner=alice, address=ch.address, token=wctez, token_id=3)"
   ]
  },
  {
   "cell_type": "code",
   "execution_count": 44,
   "id": "d38b857b",
   "metadata": {},
   "outputs": [],
   "source": [
    "kits = int(3e7)\n",
    "lqt = int(3e7)\n",
    "deadline = int(time.time() + 10)\n",
    "do_it(ch.add_liquidity(wctz, kits, lqt, deadline))"
   ]
  },
  {
   "cell_type": "code",
   "execution_count": 45,
   "id": "89dc0eb6",
   "metadata": {},
   "outputs": [
    {
     "data": {
      "text/plain": [
       "{'lazy_functions': 105,\n",
       " 'metadata': 106,\n",
       " 'deployment_state': {'sealed': {'burrows': 107,\n",
       "   'cfmm': {'ctok': 30000001,\n",
       "    'kit': 30000001,\n",
       "    'kit_in_ctok_in_prev_block': {'den': 1000000, 'num': 1000000},\n",
       "    'last_level': 5126,\n",
       "    'lqt': 30000001},\n",
       "   'external_contracts': {'collateral_fa2': 'KT1Gw79r3aL2cPavpCmmowLpVS3uEtWoTU7t',\n",
       "    'ctez_cfmm': 'KT1HBVJ9HTdS5QSzc5nM6eSuC7CYLqrpdCpu',\n",
       "    'ctok_fa2': 'KT1Sk7GEjYeUsuFzjj7ASF73zTxw6QZnRW5p',\n",
       "    'oracle': 'KT1Cch5n6XTdBuLrWtTcZQKfzVRRUqy6Ux7b'},\n",
       "   'fa2_state': {'ledger': 108, 'operators': 109},\n",
       "   'last_ctez_in_tez': None,\n",
       "   'last_index': None,\n",
       "   'liquidation_auctions': {'avl_storage': {'last_ptr': 1, 'mem': 110},\n",
       "    'burrow_slices': 111,\n",
       "    'completed_auctions': None,\n",
       "    'current_auction': None,\n",
       "    'queued_slices': 1},\n",
       "   'parameters': {'burrow_fee_index': 18446744073709551616,\n",
       "    'circulating_kit': 47619047,\n",
       "    'drift': 0,\n",
       "    'drift_derivative': 0,\n",
       "    'imbalance_index': 18446744073709551616,\n",
       "    'index': 18446744073709551616,\n",
       "    'last_touched': 1681741920,\n",
       "    'outstanding_kit': 47619047,\n",
       "    'protected_index': 18446744073709551616,\n",
       "    'q': 18446744073709551616,\n",
       "    'target': 18446744073709551616}}}}"
      ]
     },
     "execution_count": 45,
     "metadata": {},
     "output_type": "execute_result"
    }
   ],
   "source": [
    "ch.storage()"
   ]
  },
  {
   "cell_type": "code",
   "execution_count": 46,
   "id": "b2945b8a",
   "metadata": {},
   "outputs": [
    {
     "data": {
      "text/plain": [
       "[{'int': '30000000'}, {'int': '30000000'}, {'int': '17619047'}]"
      ]
     },
     "execution_count": 46,
     "metadata": {},
     "output_type": "execute_result"
    }
   ],
   "source": [
    "ptz.shell.head.context.big_maps[kit_ledger_id]()"
   ]
  },
  {
   "cell_type": "code",
   "execution_count": 47,
   "id": "17ae8cfe",
   "metadata": {},
   "outputs": [],
   "source": [
    "kits_to_sell = int(1.7e7)"
   ]
  },
  {
   "cell_type": "markdown",
   "id": "fd29a08a",
   "metadata": {},
   "source": [
    "### TODO\n",
    "\n",
    "CFMM formulas"
   ]
  },
  {
   "cell_type": "code",
   "execution_count": 48,
   "id": "077cfb86",
   "metadata": {},
   "outputs": [],
   "source": [
    "min_ctoks = int(kits_to_sell * (wctz / kits) * (kits / (kits + kits_to_sell)) * (1 - 0.002))"
   ]
  },
  {
   "cell_type": "code",
   "execution_count": 49,
   "id": "5b44d25e",
   "metadata": {},
   "outputs": [],
   "source": [
    "deadline = int(time.time() + 15)\n",
    "do_it(ch.sell_kit(kits_to_sell, min_ctoks, deadline))"
   ]
  },
  {
   "cell_type": "code",
   "execution_count": 50,
   "id": "8f771386",
   "metadata": {},
   "outputs": [
    {
     "data": {
      "text/plain": [
       "[{'int': '47000000'}, {'int': '30000000'}, {'int': '619047'}]"
      ]
     },
     "execution_count": 50,
     "metadata": {},
     "output_type": "execute_result"
    }
   ],
   "source": [
    "ptz.shell.head.context.big_maps[kit_ledger_id]()"
   ]
  },
  {
   "cell_type": "code",
   "execution_count": 51,
   "id": "91aa919e",
   "metadata": {},
   "outputs": [
    {
     "data": {
      "text/plain": [
       "{'lazy_functions': 105,\n",
       " 'metadata': 106,\n",
       " 'deployment_state': {'sealed': {'burrows': 107,\n",
       "   'cfmm': {'ctok': 19170640,\n",
       "    'kit': 47000001,\n",
       "    'kit_in_ctok_in_prev_block': {'den': 30000001000000,\n",
       "     'num': 30000001000000},\n",
       "    'last_level': 5128,\n",
       "    'lqt': 30000001},\n",
       "   'external_contracts': {'collateral_fa2': 'KT1Gw79r3aL2cPavpCmmowLpVS3uEtWoTU7t',\n",
       "    'ctez_cfmm': 'KT1HBVJ9HTdS5QSzc5nM6eSuC7CYLqrpdCpu',\n",
       "    'ctok_fa2': 'KT1Sk7GEjYeUsuFzjj7ASF73zTxw6QZnRW5p',\n",
       "    'oracle': 'KT1Cch5n6XTdBuLrWtTcZQKfzVRRUqy6Ux7b'},\n",
       "   'fa2_state': {'ledger': 108, 'operators': 109},\n",
       "   'last_ctez_in_tez': None,\n",
       "   'last_index': None,\n",
       "   'liquidation_auctions': {'avl_storage': {'last_ptr': 1, 'mem': 110},\n",
       "    'burrow_slices': 111,\n",
       "    'completed_auctions': None,\n",
       "    'current_auction': None,\n",
       "    'queued_slices': 1},\n",
       "   'parameters': {'burrow_fee_index': 18446744073709551616,\n",
       "    'circulating_kit': 47619047,\n",
       "    'drift': 0,\n",
       "    'drift_derivative': 0,\n",
       "    'imbalance_index': 18446744073709551616,\n",
       "    'index': 18446744073709551616,\n",
       "    'last_touched': 1681741920,\n",
       "    'outstanding_kit': 47619047,\n",
       "    'protected_index': 18446744073709551616,\n",
       "    'q': 18446744073709551616,\n",
       "    'target': 18446744073709551616}}}}"
      ]
     },
     "execution_count": 51,
     "metadata": {},
     "output_type": "execute_result"
    }
   ],
   "source": [
    "ch.storage()"
   ]
  },
  {
   "cell_type": "code",
   "execution_count": 52,
   "id": "bef429e0",
   "metadata": {},
   "outputs": [],
   "source": [
    "time.sleep(5.)\n",
    "do_it(ch.touch())"
   ]
  },
  {
   "cell_type": "code",
   "execution_count": 53,
   "id": "86593125",
   "metadata": {},
   "outputs": [
    {
     "data": {
      "text/plain": [
       "{'lazy_functions': 105,\n",
       " 'metadata': 106,\n",
       " 'deployment_state': {'sealed': {'burrows': 107,\n",
       "   'cfmm': {'ctok': 19170640,\n",
       "    'kit': 47000001,\n",
       "    'kit_in_ctok_in_prev_block': {'den': 47000001000000,\n",
       "     'num': 19170640000000},\n",
       "    'last_level': 5130,\n",
       "    'lqt': 30000001},\n",
       "   'external_contracts': {'collateral_fa2': 'KT1Gw79r3aL2cPavpCmmowLpVS3uEtWoTU7t',\n",
       "    'ctez_cfmm': 'KT1HBVJ9HTdS5QSzc5nM6eSuC7CYLqrpdCpu',\n",
       "    'ctok_fa2': 'KT1Sk7GEjYeUsuFzjj7ASF73zTxw6QZnRW5p',\n",
       "    'oracle': 'KT1Cch5n6XTdBuLrWtTcZQKfzVRRUqy6Ux7b'},\n",
       "   'fa2_state': {'ledger': 108, 'operators': 109},\n",
       "   'last_ctez_in_tez': {'den': 50434603235593076622201346420335487024975940721346072464973752749385702324705910509184687791561544578717485324683438074652088704769467797120906371060957197454119272448,\n",
       "    'num': 50434603235593076622201346420335487024975940721346072464973752749385702324705910509184687791561544578717485324683438074652088704769467797120906371060957197454119272448},\n",
       "   'last_index': 18446744073709551616,\n",
       "   'liquidation_auctions': {'avl_storage': {'last_ptr': 2, 'mem': 110},\n",
       "    'burrow_slices': 111,\n",
       "    'completed_auctions': None,\n",
       "    'current_auction': None,\n",
       "    'queued_slices': 1},\n",
       "   'parameters': {'burrow_fee_index': 18446744284149009347,\n",
       "    'circulating_kit': 47739047,\n",
       "    'drift': 8895996,\n",
       "    'drift_derivative': 247111,\n",
       "    'imbalance_index': 18446744153055715337,\n",
       "    'index': 18446744073709551616,\n",
       "    'last_touched': 1681741992,\n",
       "    'outstanding_kit': 47619047,\n",
       "    'protected_index': 18446744073709551616,\n",
       "    'q': 18446744073923055520,\n",
       "    'target': 18446744073923055520}}}}"
      ]
     },
     "execution_count": 53,
     "metadata": {},
     "output_type": "execute_result"
    }
   ],
   "source": [
    "ch.storage()"
   ]
  },
  {
   "cell_type": "markdown",
   "id": "9b678d31",
   "metadata": {},
   "source": [
    "Notice that Checker has paid us in freshly-minted kits for calling `touch`"
   ]
  },
  {
   "cell_type": "code",
   "execution_count": 65,
   "id": "4c9ba73e",
   "metadata": {},
   "outputs": [
    {
     "data": {
      "text/plain": [
       "[{'int': '47000000'}, {'int': '30000000'}, {'int': '779047'}]"
      ]
     },
     "execution_count": 65,
     "metadata": {},
     "output_type": "execute_result"
    }
   ],
   "source": [
    "ptz.shell.head.context.big_maps[kit_ledger_id]()"
   ]
  },
  {
   "cell_type": "code",
   "execution_count": 55,
   "id": "06f184a3",
   "metadata": {},
   "outputs": [
    {
     "data": {
      "text/plain": [
       "{'buy_kit_min_kit': pytezos.michelson.micheline.ViewSection,\n",
       " 'sell_kit_min_ctok': pytezos.michelson.micheline.ViewSection,\n",
       " 'add_liquidity_max_kit': pytezos.michelson.micheline.ViewSection,\n",
       " 'add_liquidity_min_lqt': pytezos.michelson.micheline.ViewSection,\n",
       " 'remove_liquidity_min_ctok': pytezos.michelson.micheline.ViewSection,\n",
       " 'remove_liquidity_min_kit': pytezos.michelson.micheline.ViewSection,\n",
       " 'current_auction_details': pytezos.michelson.micheline.ViewSection,\n",
       " 'burrow_max_mintable_kit': pytezos.michelson.micheline.ViewSection,\n",
       " 'is_burrow_overburrowed': pytezos.michelson.micheline.ViewSection,\n",
       " 'is_burrow_liquidatable': pytezos.michelson.micheline.ViewSection,\n",
       " 'get_balance': pytezos.michelson.micheline.ViewSection,\n",
       " 'total_supply': pytezos.michelson.micheline.ViewSection,\n",
       " 'all_tokens': pytezos.michelson.micheline.ViewSection,\n",
       " 'is_operator': pytezos.michelson.micheline.ViewSection}"
      ]
     },
     "execution_count": 55,
     "metadata": {},
     "output_type": "execute_result"
    }
   ],
   "source": [
    "ch.views"
   ]
  },
  {
   "cell_type": "code",
   "execution_count": 63,
   "id": "3a76445d",
   "metadata": {},
   "outputs": [],
   "source": [
    "do_it(ch.touch())"
   ]
  },
  {
   "cell_type": "code",
   "execution_count": 64,
   "id": "4968ae45",
   "metadata": {},
   "outputs": [
    {
     "data": {
      "text/plain": [
       "True"
      ]
     },
     "execution_count": 64,
     "metadata": {},
     "output_type": "execute_result"
    }
   ],
   "source": [
    "ch.is_burrow_overburrowed(alice.public_key_hash(), 0).onchain_view()"
   ]
  },
  {
   "cell_type": "code",
   "execution_count": null,
   "id": "2ed769c9",
   "metadata": {},
   "outputs": [],
   "source": []
  },
  {
   "cell_type": "code",
   "execution_count": null,
   "id": "964ee4f8",
   "metadata": {},
   "outputs": [],
   "source": []
  },
  {
   "cell_type": "code",
   "execution_count": null,
   "id": "546f9b27",
   "metadata": {},
   "outputs": [],
   "source": []
  },
  {
   "cell_type": "code",
   "execution_count": null,
   "id": "1809ee6e",
   "metadata": {},
   "outputs": [],
   "source": []
  },
  {
   "cell_type": "code",
   "execution_count": null,
   "id": "55236a76",
   "metadata": {},
   "outputs": [],
   "source": []
  }
 ],
 "metadata": {
  "kernelspec": {
   "display_name": "Python 3 (ipykernel)",
   "language": "python",
   "name": "python3"
  },
  "language_info": {
   "codemirror_mode": {
    "name": "ipython",
    "version": 3
   },
   "file_extension": ".py",
   "mimetype": "text/x-python",
   "name": "python",
   "nbconvert_exporter": "python",
   "pygments_lexer": "ipython3",
   "version": "3.10.8"
  }
 },
 "nbformat": 4,
 "nbformat_minor": 5
}
