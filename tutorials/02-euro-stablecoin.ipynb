{
 "cells": [
  {
   "cell_type": "code",
   "execution_count": 2,
   "id": "958c3743",
   "metadata": {},
   "outputs": [],
   "source": [
    "import pytezos as tz\n",
    "import time\n",
    "from checker_tools.client.operations import inject\n",
    "from pytezos.contract.call import ContractCall\n",
    "from pytezos.operation.group import OperationGroup"
   ]
  },
  {
   "cell_type": "markdown",
   "id": "8333e24a",
   "metadata": {},
   "source": [
    "# Deploying Checker"
   ]
  },
  {
   "cell_type": "markdown",
   "id": "d96b9502",
   "metadata": {},
   "source": [
    "We will use `alice` as admin for all of our contracts."
   ]
  },
  {
   "cell_type": "code",
   "execution_count": 3,
   "id": "cd49eec0",
   "metadata": {},
   "outputs": [],
   "source": [
    "TEZOS_RPC=\"http://localhost:20000\"\n",
    "\n",
    "alice_secret = \"edsk3QoqBuvdamxouPhin7swCvkQNgq4jP5KZPbwWNnwdZpSpJiEbq\"\n",
    "alice = tz.Key.from_encoded_key(alice_secret)\n",
    "alice_ptz = tz.pytezos.using(TEZOS_RPC, alice)"
   ]
  },
  {
   "cell_type": "code",
   "execution_count": 4,
   "id": "8a689741",
   "metadata": {},
   "outputs": [],
   "source": [
    "tez = int(1e6)  # 1 tez = 1M mutez"
   ]
  },
  {
   "cell_type": "code",
   "execution_count": 5,
   "id": "71039dac",
   "metadata": {},
   "outputs": [],
   "source": [
    "def do_it(ptz, call, amount=None):\n",
    "    \"\"\"Calls an entrypoint, optionally sending an amount of mutez\"\"\"\n",
    "    if amount is not None:\n",
    "        call = call.with_amount(amount)\n",
    "    # FIXME: not sure why it is so hard to change the source?\n",
    "    # This is necessary because the contract is created with the admin's PyTezosClient\n",
    "    # and we want to send the transaction from someone else\n",
    "    contents = call.as_transaction().contents\n",
    "    og = OperationGroup(context=ptz.context, contents=contents)\n",
    "    tx = og.fill(counter=int(ptz.account()[\"counter\"])+1).sign()\n",
    "    return tx.send(min_confirmations=1)\n",
    "    \n",
    "    \n",
    "def add_operator_fa2(ptz, address, token, token_id):\n",
    "    return do_it(ptz, token.update_operators([{\n",
    "        \"add_operator\": {\n",
    "            \"owner\": ptz.key.public_key_hash(),\n",
    "            \"operator\": address,\n",
    "            \"token_id\": token_id\n",
    "        }\n",
    "    }]))\n",
    "\n",
    "def add_allowance_fa12(ptz, token, spender, quantity):\n",
    "    return do_it(ptz,\n",
    "        token.approve({\n",
    "            \"spender\": spender.address,\n",
    "            \"value\": quantity\n",
    "        })\n",
    "    )\n",
    "\n",
    "def now_plus_10():\n",
    "    return int(time.time() + 10)"
   ]
  },
  {
   "cell_type": "code",
   "execution_count": 6,
   "id": "10812a9d",
   "metadata": {},
   "outputs": [],
   "source": [
    "from pytezos.contract.interface import ContractInterface, Contract, MichelsonProgram, ExecutionContext"
   ]
  },
  {
   "cell_type": "code",
   "execution_count": 7,
   "id": "0b9b18e1",
   "metadata": {},
   "outputs": [],
   "source": [
    "from pytezos.context.impl import ExecutionContext"
   ]
  },
  {
   "cell_type": "code",
   "execution_count": 8,
   "id": "10950cc2",
   "metadata": {},
   "outputs": [
    {
     "data": {
      "text/plain": [
       "PosixPath('../checker.yaml')"
      ]
     },
     "execution_count": 8,
     "metadata": {},
     "output_type": "execute_result"
    }
   ],
   "source": [
    "from checker_tools.builder.config import CheckerRepo\n",
    "from checker_tools.client import checker\n",
    "conf = CheckerRepo(\"..\")\n",
    "conf.default_config"
   ]
  },
  {
   "cell_type": "markdown",
   "id": "0a9f1cd9",
   "metadata": {},
   "source": [
    "TODO: Harbinger oracle"
   ]
  },
  {
   "cell_type": "code",
   "execution_count": 9,
   "id": "92339223",
   "metadata": {},
   "outputs": [],
   "source": [
    "oracle_source = \"../utils/mock_oracle.tz\"\n",
    "oracle_storage={'owner': alice.public_key_hash(), 'price': (1, 1)}   # Initial price of 1 tok/kit\n",
    "oracle = checker.deploy_contract(alice_ptz, source_file=oracle_source, initial_storage=oracle_storage)"
   ]
  },
  {
   "cell_type": "code",
   "execution_count": 10,
   "id": "b7e904e0",
   "metadata": {},
   "outputs": [
    {
     "name": "stdout",
     "output_type": "stream",
     "text": [
      "Deploying ctez contract...\n",
      "Done.\n",
      "Deploying ctez FA1.2 contract...\n",
      "Done.\n",
      "Deploying ctez CFMM contract...\n",
      "Done.\n",
      "Deploying liquidity contract...\n",
      "Done.\n",
      "Setting liquidity address in CFMM contract...\n",
      "Done.\n",
      "Setting CFMM amd ctez FA1.2 addresses in ctez contract...\n"
     ]
    },
    {
     "name": "stderr",
     "output_type": "stream",
     "text": [
      "Loading config from ../checker.yaml\n"
     ]
    },
    {
     "name": "stdout",
     "output_type": "stream",
     "text": [
      "Done.\n",
      "Deploying the wtez contract.\n"
     ]
    },
    {
     "name": "stderr",
     "output_type": "stream",
     "text": [
      "Loading config from ../checker.yaml\n"
     ]
    },
    {
     "name": "stdout",
     "output_type": "stream",
     "text": [
      "Done.\n",
      "Tez Wrapper address: KT1FJDtuFLRjZajFWVwZZhfd2xxADmqc3qoc\n",
      "Deploying the wctez contract.\n",
      "Done.\n",
      "wctez address: KT1JzZbLsSidp71Fq8VNHr4eq3BiDqS5U5sT\n"
     ]
    }
   ],
   "source": [
    "ctez_contracts = checker.deploy_ctez(alice_ptz, conf)\n",
    "wtez = checker.deploy_wtez(alice_ptz, conf)\n",
    "wctez = checker.deploy_wctez(alice_ptz, conf, ctez_fa12_address=ctez_contracts[\"fa12_ctez\"].address)"
   ]
  },
  {
   "cell_type": "code",
   "execution_count": 11,
   "id": "f0b290df",
   "metadata": {
    "scrolled": true
   },
   "outputs": [
    {
     "name": "stderr",
     "output_type": "stream",
     "text": [
      "Loading config from ../checker.yaml\n"
     ]
    },
    {
     "name": "stdout",
     "output_type": "stream",
     "text": [
      "Deploying the wrapper.\n",
      "Checker address: KT1Q4HEeboEqJ7gkZ9tBrZRE5GBrw4t3CDwE\n",
      "Deploying the TZIP-16 metadata.\n",
      "Deploying TZIP-16 metadata: chunk 1 of 10\n",
      "Deploying TZIP-16 metadata: chunk 2 of 10\n",
      "Deploying TZIP-16 metadata: chunk 3 of 10\n",
      "Deploying TZIP-16 metadata: chunk 4 of 10\n",
      "Deploying TZIP-16 metadata: chunk 5 of 10\n",
      "Deploying TZIP-16 metadata: chunk 6 of 10\n",
      "Deploying TZIP-16 metadata: chunk 7 of 10\n",
      "Deploying TZIP-16 metadata: chunk 8 of 10\n",
      "Deploying TZIP-16 metadata: chunk 9 of 10\n",
      "Deploying TZIP-16 metadata: chunk 10 of 10\n",
      "Deploying: touch\n",
      "  deployed: chunk 0.\n",
      "  deployed: chunk 1.\n",
      "  deployed: chunk 2.\n",
      "  deployed: chunk 3.\n",
      "Deploying: create_burrow\n",
      "  deployed: chunk 0.\n",
      "Deploying: deposit_collateral\n",
      "  deployed: chunk 0.\n",
      "Deploying: withdraw_collateral\n",
      "  deployed: chunk 0.\n",
      "Deploying: mint_kit\n",
      "  deployed: chunk 0.\n",
      "Deploying: burn_kit\n",
      "  deployed: chunk 0.\n",
      "Deploying: activate_burrow\n",
      "  deployed: chunk 0.\n",
      "Deploying: deactivate_burrow\n",
      "  deployed: chunk 0.\n",
      "Deploying: mark_for_liquidation\n",
      "  deployed: chunk 0.\n",
      "Deploying: touch_liquidation_slices\n",
      "  deployed: chunk 0.\n",
      "Deploying: cancel_liquidation_slice\n",
      "  deployed: chunk 0.\n",
      "Deploying: touch_burrow\n",
      "  deployed: chunk 0.\n",
      "Deploying: set_burrow_delegate\n",
      "  deployed: chunk 0.\n",
      "Deploying: buy_kit\n",
      "  deployed: chunk 0.\n",
      "Deploying: sell_kit\n",
      "  deployed: chunk 0.\n",
      "Deploying: add_liquidity\n",
      "  deployed: chunk 0.\n",
      "Deploying: remove_liquidity\n",
      "  deployed: chunk 0.\n",
      "Deploying: liquidation_auction_place_bid\n",
      "  deployed: chunk 0.\n",
      "Deploying: liquidation_auction_claim_win\n",
      "  deployed: chunk 0.\n",
      "Deploying: receive_price\n",
      "  deployed: chunk 0.\n",
      "Deploying: receive_ctez_marginal_price\n",
      "  deployed: chunk 0.\n",
      "Deploying: update_operators\n",
      "  deployed: chunk 0.\n",
      "Sealing.\n"
     ]
    }
   ],
   "source": [
    "ch = checker.deploy_checker(alice_ptz, conf, oracle=oracle, collateral_fa2=wtez,\n",
    "                            cfmm_token_fa2=wctez, ctez_cfmm=ctez_contracts[\"cfmm\"])"
   ]
  },
  {
   "cell_type": "code",
   "execution_count": 12,
   "id": "c7685650",
   "metadata": {},
   "outputs": [
    {
     "data": {
      "text/plain": [
       "{'lazy_functions': 16,\n",
       " 'metadata': 17,\n",
       " 'deployment_state': {'sealed': {'burrows': 18,\n",
       "   'cfmm': {'ctok': 1,\n",
       "    'kit': 1,\n",
       "    'kit_in_ctok_in_prev_block': {'den': 1, 'num': 1},\n",
       "    'last_level': 47,\n",
       "    'lqt': 1},\n",
       "   'external_contracts': {'collateral_fa2': 'KT1FJDtuFLRjZajFWVwZZhfd2xxADmqc3qoc',\n",
       "    'ctez_cfmm': 'KT1J5WbrrzxCAMx3YEDGNEEmu7YwuPvxTynj',\n",
       "    'ctok_fa2': 'KT1JzZbLsSidp71Fq8VNHr4eq3BiDqS5U5sT',\n",
       "    'oracle': 'KT1C1SsTheFJJD96uDFNhCqBVyrEgZvikosQ'},\n",
       "   'fa2_state': {'ledger': 19, 'operators': 20},\n",
       "   'last_ctez_in_tez': None,\n",
       "   'last_index': None,\n",
       "   'liquidation_auctions': {'avl_storage': {'last_ptr': 1, 'mem': 21},\n",
       "    'burrow_slices': 22,\n",
       "    'completed_auctions': None,\n",
       "    'current_auction': None,\n",
       "    'queued_slices': 1},\n",
       "   'parameters': {'burrow_fee_index': 18446744073709551616,\n",
       "    'circulating_kit': 0,\n",
       "    'drift': 0,\n",
       "    'drift_derivative': 0,\n",
       "    'imbalance_index': 18446744073709551616,\n",
       "    'index': 18446744073709551616,\n",
       "    'last_touched': 1687451871,\n",
       "    'outstanding_kit': 0,\n",
       "    'protected_index': 18446744073709551616,\n",
       "    'q': 18446744073709551616,\n",
       "    'target': 18446744073709551616}}}}"
      ]
     },
     "execution_count": 12,
     "metadata": {},
     "output_type": "execute_result"
    }
   ],
   "source": [
    "ch.storage()"
   ]
  },
  {
   "cell_type": "markdown",
   "id": "51864578",
   "metadata": {},
   "source": [
    "# A few test accounts"
   ]
  },
  {
   "cell_type": "markdown",
   "id": "3b38ec8f",
   "metadata": {},
   "source": [
    "In order to make this simulation a little more realistic, let's create a bunch of addresses, send them some tez and have them mint various quantity of kits."
   ]
  },
  {
   "cell_type": "code",
   "execution_count": 13,
   "id": "d5cfa212",
   "metadata": {},
   "outputs": [],
   "source": [
    "test_accounts = [\n",
    "    {\n",
    "        \"address\": \"tz1L7zaWD1aRYBTQvSdxEdc9KDzfwG4DydDu\",\n",
    "        \"secret\": \"edsk4WVyqJ112qJREwC5TERn2AmmmNMyVhwWyaLgHosC48UFV6EnMG\",\n",
    "        \"kits_to_mint\": 1000*tez,\n",
    "        \"wtez_to_mint\": 1200*tez\n",
    "    },\n",
    "    {\n",
    "        \"address\": \"tz1LKyW7AzoXYiPxxS6uzKwcUtpincBZduxf\",\n",
    "        \"secret\": \"edsk4JaFU4PZ7vpp1kDyeE578zwJv2XpBP7QqhSQEw3mFS3rmBP5nJ\",\n",
    "        \"kits_to_mint\": 1000*tez,\n",
    "        \"wtez_to_mint\": 1500*tez\n",
    "    },\n",
    "    {\n",
    "        \"address\": \"tz1RPNjHPWuM8ryS5LDttkHdM321t85dSqaf\",\n",
    "        \"secret\": \"edsk36FhrZwFVKpkdmouNmcwkAJ9XgSnE5TFHA7MqnmZ93iczDhQLK\",\n",
    "        \"kits_to_mint\": 5000*tez,\n",
    "        \"wtez_to_mint\": 6000*tez\n",
    "    },\n",
    "    {\n",
    "        \"address\": \"tz1SZtpiT7KAdwZ23PDWDwdrkbe1Ci6Zzb48\",\n",
    "        \"secret\": \"edsk3Vjga1rxDHC9Bns7EN4CWkpaYoHwnHBPJMdERPtytxcx7A78PG\",\n",
    "        \"kits_to_mint\": 10000*tez,\n",
    "        \"wtez_to_mint\": 10001*tez\n",
    "    },\n",
    "    {\n",
    "        \"address\": \"tz1UgD3EScpgxVNVFQ3BKWspGMBzjCAUBK8z\",\n",
    "        \"secret\": \"edsk3tP2tJieBNsRTqaq8edcfekPxALp3W5F2Ef4tLecqf6XG66m5F\",\n",
    "        \"kits_to_mint\": 2000*tez,\n",
    "        \"wtez_to_mint\": 5000*tez\n",
    "    }\n",
    "]"
   ]
  },
  {
   "cell_type": "markdown",
   "id": "6a1c90b8",
   "metadata": {},
   "source": [
    "The following block reveals accounts, which is necessary if they are new (as is the case on Flextesa)."
   ]
  },
  {
   "cell_type": "code",
   "execution_count": 14,
   "id": "80c0c470",
   "metadata": {
    "scrolled": true
   },
   "outputs": [
    {
     "name": "stderr",
     "output_type": "stream",
     "text": [
      "Operation ooosiJELeAVFfgcsdyaZjHtXc6MkoP3wFCwwu7D7Hei1qKxd13n is still in mempool\n",
      "Current level: 47 (max 167)\n",
      "Sleep 5 seconds until block BLw6MBXGMjNiteJR9a5RzbDtSW2xhDTyix4HBP5XzuaokM1yS4E is superseded\n",
      "Found new block BLAn49ZV6teUmjm17zHQcDy9ncbrB2qiJoVqEzwZ9SNvU2wm37E (0 sec delay)\n",
      "Operation ooosiJELeAVFfgcsdyaZjHtXc6MkoP3wFCwwu7D7Hei1qKxd13n has left mempool\n",
      "Operation ooosiJELeAVFfgcsdyaZjHtXc6MkoP3wFCwwu7D7Hei1qKxd13n has been included to block BLAn49ZV6teUmjm17zHQcDy9ncbrB2qiJoVqEzwZ9SNvU2wm37E\n",
      "Operation ooosiJELeAVFfgcsdyaZjHtXc6MkoP3wFCwwu7D7Hei1qKxd13n has 1/1 confirmations\n",
      "Operation ooTgxHh6fgG7wWGWpiqxyBCMnf1TcL4JqATNncekJ39pF6ahG9S is still in mempool\n",
      "Current level: 48 (max 53)\n",
      "Sleep 4 seconds until block BLAn49ZV6teUmjm17zHQcDy9ncbrB2qiJoVqEzwZ9SNvU2wm37E is superseded\n",
      "Found new block BLD3sG5PzTb19Dpq4Q44aCBZeWPfUSKE1aaBKLBSDShp5B4yVcd (0 sec delay)\n",
      "Operation ooTgxHh6fgG7wWGWpiqxyBCMnf1TcL4JqATNncekJ39pF6ahG9S has left mempool\n",
      "Operation ooTgxHh6fgG7wWGWpiqxyBCMnf1TcL4JqATNncekJ39pF6ahG9S has been included to block BLD3sG5PzTb19Dpq4Q44aCBZeWPfUSKE1aaBKLBSDShp5B4yVcd\n",
      "Operation ooTgxHh6fgG7wWGWpiqxyBCMnf1TcL4JqATNncekJ39pF6ahG9S has 1/1 confirmations\n",
      "Operation ooTfxHmAcXNKSsbHj32oyojwdp8EFytJgijKh3YvusxznvUXYrc is still in mempool\n",
      "Current level: 49 (max 169)\n",
      "Sleep 3 seconds until block BLD3sG5PzTb19Dpq4Q44aCBZeWPfUSKE1aaBKLBSDShp5B4yVcd is superseded\n",
      "Found new block BKpm4PzNdaeAcajXVmtKZJMaUhvzqPWu52LoR9WzAQZ6KNfEDvY (0 sec delay)\n",
      "Operation ooTfxHmAcXNKSsbHj32oyojwdp8EFytJgijKh3YvusxznvUXYrc has left mempool\n",
      "Operation ooTfxHmAcXNKSsbHj32oyojwdp8EFytJgijKh3YvusxznvUXYrc has been included to block BKpm4PzNdaeAcajXVmtKZJMaUhvzqPWu52LoR9WzAQZ6KNfEDvY\n",
      "Operation ooTfxHmAcXNKSsbHj32oyojwdp8EFytJgijKh3YvusxznvUXYrc has 1/1 confirmations\n",
      "Operation onrSQ277JXfCPorHmGf85fQnvesioBmd43i8zjVpT1yQiMxnWiR is still in mempool\n",
      "Current level: 50 (max 55)\n",
      "Sleep 4 seconds until block BKpm4PzNdaeAcajXVmtKZJMaUhvzqPWu52LoR9WzAQZ6KNfEDvY is superseded\n",
      "Found new block BL4wNYL9tUmDz3fTPtA6NbccGgMrEF67AYmjZyrHFNjzki2NnwU (0 sec delay)\n",
      "Operation onrSQ277JXfCPorHmGf85fQnvesioBmd43i8zjVpT1yQiMxnWiR has left mempool\n",
      "Operation onrSQ277JXfCPorHmGf85fQnvesioBmd43i8zjVpT1yQiMxnWiR has been included to block BL4wNYL9tUmDz3fTPtA6NbccGgMrEF67AYmjZyrHFNjzki2NnwU\n",
      "Operation onrSQ277JXfCPorHmGf85fQnvesioBmd43i8zjVpT1yQiMxnWiR has 1/1 confirmations\n",
      "Operation opR3EdTJXodiw2njuxbvpd6J7mby7MTANwET4WdvwrAPqNXT9rE is still in mempool\n",
      "Current level: 51 (max 171)\n",
      "Sleep 4 seconds until block BL4wNYL9tUmDz3fTPtA6NbccGgMrEF67AYmjZyrHFNjzki2NnwU is superseded\n",
      "Found new block BKodxyASA5EMuw3gK6omjp6QBZvVgL2QjNYaCZxcFav49sAQkjJ (0 sec delay)\n",
      "Operation opR3EdTJXodiw2njuxbvpd6J7mby7MTANwET4WdvwrAPqNXT9rE has left mempool\n",
      "Operation opR3EdTJXodiw2njuxbvpd6J7mby7MTANwET4WdvwrAPqNXT9rE has been included to block BKodxyASA5EMuw3gK6omjp6QBZvVgL2QjNYaCZxcFav49sAQkjJ\n",
      "Operation opR3EdTJXodiw2njuxbvpd6J7mby7MTANwET4WdvwrAPqNXT9rE has 1/1 confirmations\n",
      "Operation ooBTNGmCvKi12ydDzccnbEFpEZWLbCRVyfzxRVqJto9f9tgmGS3 is still in mempool\n",
      "Current level: 52 (max 57)\n",
      "Sleep 4 seconds until block BKodxyASA5EMuw3gK6omjp6QBZvVgL2QjNYaCZxcFav49sAQkjJ is superseded\n",
      "Found new block BMHztzp1AyiKZUevQgszjE4LunGd39YTTB7ovJYcqV8JGHdiYwP (0 sec delay)\n",
      "Operation ooBTNGmCvKi12ydDzccnbEFpEZWLbCRVyfzxRVqJto9f9tgmGS3 has left mempool\n",
      "Operation ooBTNGmCvKi12ydDzccnbEFpEZWLbCRVyfzxRVqJto9f9tgmGS3 has been included to block BMHztzp1AyiKZUevQgszjE4LunGd39YTTB7ovJYcqV8JGHdiYwP\n",
      "Operation ooBTNGmCvKi12ydDzccnbEFpEZWLbCRVyfzxRVqJto9f9tgmGS3 has 1/1 confirmations\n",
      "Operation opJfDQpqn8tJnZUB5q53vePzXUzkkffPAJatMPq7ZVsZMrNcy7P is still in mempool\n",
      "Current level: 53 (max 173)\n",
      "Sleep 4 seconds until block BMHztzp1AyiKZUevQgszjE4LunGd39YTTB7ovJYcqV8JGHdiYwP is superseded\n",
      "Found new block BKwa4Syxh7LfTFQqAUzMyUKk3mJb3essbmeZZy8tRRzdD9kCCh7 (0 sec delay)\n",
      "Operation opJfDQpqn8tJnZUB5q53vePzXUzkkffPAJatMPq7ZVsZMrNcy7P has left mempool\n",
      "Operation opJfDQpqn8tJnZUB5q53vePzXUzkkffPAJatMPq7ZVsZMrNcy7P has been included to block BKwa4Syxh7LfTFQqAUzMyUKk3mJb3essbmeZZy8tRRzdD9kCCh7\n",
      "Operation opJfDQpqn8tJnZUB5q53vePzXUzkkffPAJatMPq7ZVsZMrNcy7P has 1/1 confirmations\n",
      "Operation ooAWQik8nsRqTunp8sxSGtNmS2N9dPeMLga6oKdfXhWDGYVduY1 is still in mempool\n",
      "Current level: 54 (max 59)\n",
      "Sleep 4 seconds until block BKwa4Syxh7LfTFQqAUzMyUKk3mJb3essbmeZZy8tRRzdD9kCCh7 is superseded\n",
      "Found new block BMY59W9txS7xt1gLxh39A44wUEfQ5tjSSPD2Q947tsGoKetxq6e (0 sec delay)\n",
      "Operation ooAWQik8nsRqTunp8sxSGtNmS2N9dPeMLga6oKdfXhWDGYVduY1 has left mempool\n",
      "Operation ooAWQik8nsRqTunp8sxSGtNmS2N9dPeMLga6oKdfXhWDGYVduY1 has been included to block BMY59W9txS7xt1gLxh39A44wUEfQ5tjSSPD2Q947tsGoKetxq6e\n",
      "Operation ooAWQik8nsRqTunp8sxSGtNmS2N9dPeMLga6oKdfXhWDGYVduY1 has 1/1 confirmations\n",
      "Operation onyasPtZnfcLUpde1DYBJmxXN2jPwsKzXYkuvCBVdtLFAJdEWPH is still in mempool\n",
      "Current level: 55 (max 175)\n",
      "Sleep 4 seconds until block BMY59W9txS7xt1gLxh39A44wUEfQ5tjSSPD2Q947tsGoKetxq6e is superseded\n",
      "Found new block BLRgA1Pw56Nx7nL1hYaqwKejyqRDUBHdAFoLVgDDMjoduMPqYXP (0 sec delay)\n",
      "Operation onyasPtZnfcLUpde1DYBJmxXN2jPwsKzXYkuvCBVdtLFAJdEWPH has left mempool\n",
      "Operation onyasPtZnfcLUpde1DYBJmxXN2jPwsKzXYkuvCBVdtLFAJdEWPH has been included to block BLRgA1Pw56Nx7nL1hYaqwKejyqRDUBHdAFoLVgDDMjoduMPqYXP\n",
      "Operation onyasPtZnfcLUpde1DYBJmxXN2jPwsKzXYkuvCBVdtLFAJdEWPH has 1/1 confirmations\n",
      "Operation op59uGWYN3ADMadHKXszeRP41rKacC4xyhUa4HjYdH5RoY2EHb5 is still in mempool\n",
      "Current level: 56 (max 61)\n",
      "Sleep 4 seconds until block BLRgA1Pw56Nx7nL1hYaqwKejyqRDUBHdAFoLVgDDMjoduMPqYXP is superseded\n",
      "Found new block BMJ1d1zmS9qnqXV2KekzMNdMFDLGHt1qdjysY358TZzaf642DzZ (0 sec delay)\n",
      "Operation op59uGWYN3ADMadHKXszeRP41rKacC4xyhUa4HjYdH5RoY2EHb5 has left mempool\n",
      "Operation op59uGWYN3ADMadHKXszeRP41rKacC4xyhUa4HjYdH5RoY2EHb5 has been included to block BMJ1d1zmS9qnqXV2KekzMNdMFDLGHt1qdjysY358TZzaf642DzZ\n",
      "Operation op59uGWYN3ADMadHKXszeRP41rKacC4xyhUa4HjYdH5RoY2EHb5 has 1/1 confirmations\n"
     ]
    }
   ],
   "source": [
    "for test_account in test_accounts:\n",
    "    # Send 11000 ꜩ to each test account\n",
    "    alice_ptz.transaction(destination=test_account[\"address\"], amount=int(1.1e10)).autofill().sign().send(min_confirmations=1)\n",
    "    new_ptz = tz.pytezos.using(TEZOS_RPC, test_account[\"secret\"])\n",
    "    new_ptz.reveal().autofill().sign().inject(min_confirmations=1)\n",
    "    test_account[\"ptz\"] = new_ptz  # Store the PyTezos client for later use"
   ]
  },
  {
   "cell_type": "code",
   "execution_count": 15,
   "id": "d79f67d8",
   "metadata": {
    "scrolled": true
   },
   "outputs": [
    {
     "name": "stderr",
     "output_type": "stream",
     "text": [
      "Operation op6nLyd5psXxXV7bRKYxeBKqdYGnq9bgx3heYCZjzmjzoQoyrbB is still in mempool\n",
      "Current level: 57 (max 177)\n",
      "Sleep 4 seconds until block BMJ1d1zmS9qnqXV2KekzMNdMFDLGHt1qdjysY358TZzaf642DzZ is superseded\n",
      "Found new block BKuZ6171n57v5cJHMsQiNam4Cq9mAGyrs2zip7wpFqhs1EUNhLB (0 sec delay)\n",
      "Operation op6nLyd5psXxXV7bRKYxeBKqdYGnq9bgx3heYCZjzmjzoQoyrbB has left mempool\n",
      "Operation op6nLyd5psXxXV7bRKYxeBKqdYGnq9bgx3heYCZjzmjzoQoyrbB has been included to block BKuZ6171n57v5cJHMsQiNam4Cq9mAGyrs2zip7wpFqhs1EUNhLB\n",
      "Operation op6nLyd5psXxXV7bRKYxeBKqdYGnq9bgx3heYCZjzmjzoQoyrbB has 1/1 confirmations\n",
      "Operation opMXwuJos1bQRnxfAD2bHJ6us4ymLKxGLBDLLsVyxZgNz1Y7c7R is still in mempool\n",
      "Current level: 58 (max 178)\n",
      "Sleep 4 seconds until block BKuZ6171n57v5cJHMsQiNam4Cq9mAGyrs2zip7wpFqhs1EUNhLB is superseded\n",
      "Found new block BLWF9Ba7iebiLABSF2JzsekD8vXTnxaimYjf9qWPPGkTkwv2AzJ (3 sec delay)\n",
      "Operation opMXwuJos1bQRnxfAD2bHJ6us4ymLKxGLBDLLsVyxZgNz1Y7c7R has left mempool\n",
      "Operation opMXwuJos1bQRnxfAD2bHJ6us4ymLKxGLBDLLsVyxZgNz1Y7c7R has been included to block BLWF9Ba7iebiLABSF2JzsekD8vXTnxaimYjf9qWPPGkTkwv2AzJ\n",
      "Operation opMXwuJos1bQRnxfAD2bHJ6us4ymLKxGLBDLLsVyxZgNz1Y7c7R has 1/1 confirmations\n",
      "Operation oogFm4RLnRS76hSBJvtZRKwGrbgyhkRBTx8aGW5pQ2MVXWpsFJA is still in mempool\n",
      "Current level: 59 (max 179)\n",
      "Sleep 5 seconds until block BLWF9Ba7iebiLABSF2JzsekD8vXTnxaimYjf9qWPPGkTkwv2AzJ is superseded\n",
      "Found new block BLKsEtLb94mbn8cKffkqicDjMX3yZJMsp2ChZQHh1ejCKFmfDkF (3 sec delay)\n",
      "Operation oogFm4RLnRS76hSBJvtZRKwGrbgyhkRBTx8aGW5pQ2MVXWpsFJA has left mempool\n",
      "Operation oogFm4RLnRS76hSBJvtZRKwGrbgyhkRBTx8aGW5pQ2MVXWpsFJA has been included to block BLKsEtLb94mbn8cKffkqicDjMX3yZJMsp2ChZQHh1ejCKFmfDkF\n",
      "Operation oogFm4RLnRS76hSBJvtZRKwGrbgyhkRBTx8aGW5pQ2MVXWpsFJA has 1/1 confirmations\n",
      "Operation oo4GGVgCTJs4wsL9MS25Rm8KbPnXHQwFmriHnEXiTzsmtakUPz9 is still in mempool\n",
      "Current level: 60 (max 180)\n",
      "Sleep 4 seconds until block BLKsEtLb94mbn8cKffkqicDjMX3yZJMsp2ChZQHh1ejCKFmfDkF is superseded\n",
      "Found new block BLGtHpjRiDqwj7xHqUS2dzhFa6JvVdJYgUJqDTeVUVyjFv84uxT (0 sec delay)\n",
      "Operation oo4GGVgCTJs4wsL9MS25Rm8KbPnXHQwFmriHnEXiTzsmtakUPz9 has left mempool\n",
      "Operation oo4GGVgCTJs4wsL9MS25Rm8KbPnXHQwFmriHnEXiTzsmtakUPz9 has been included to block BLGtHpjRiDqwj7xHqUS2dzhFa6JvVdJYgUJqDTeVUVyjFv84uxT\n",
      "Operation oo4GGVgCTJs4wsL9MS25Rm8KbPnXHQwFmriHnEXiTzsmtakUPz9 has 1/1 confirmations\n",
      "Operation oobKgfgXUB73nVEAKYhps1dvwcZ2VzatdvMsUMVCB4kcVKwaqeW is still in mempool\n",
      "Current level: 61 (max 181)\n",
      "Sleep 4 seconds until block BLGtHpjRiDqwj7xHqUS2dzhFa6JvVdJYgUJqDTeVUVyjFv84uxT is superseded\n",
      "Found new block BLYorvuGMTnqHXYzjD4zywq5SPiokpH3g2ZFBXX4b92kuTQC4hJ (0 sec delay)\n",
      "Operation oobKgfgXUB73nVEAKYhps1dvwcZ2VzatdvMsUMVCB4kcVKwaqeW has left mempool\n",
      "Operation oobKgfgXUB73nVEAKYhps1dvwcZ2VzatdvMsUMVCB4kcVKwaqeW has been included to block BLYorvuGMTnqHXYzjD4zywq5SPiokpH3g2ZFBXX4b92kuTQC4hJ\n",
      "Operation oobKgfgXUB73nVEAKYhps1dvwcZ2VzatdvMsUMVCB4kcVKwaqeW has 1/1 confirmations\n",
      "Operation opZPWAxhLwouYaBpcqSLt1iNU2hqNsqLPokyUHgCWKRUM4D4ACG is still in mempool\n",
      "Current level: 62 (max 182)\n",
      "Sleep 4 seconds until block BLYorvuGMTnqHXYzjD4zywq5SPiokpH3g2ZFBXX4b92kuTQC4hJ is superseded\n",
      "Found new block BKkMcKH2KfM4xQtygVbbMxSPN2n3W2AEnt51tLtVP6PWFbvvm8D (0 sec delay)\n",
      "Operation opZPWAxhLwouYaBpcqSLt1iNU2hqNsqLPokyUHgCWKRUM4D4ACG has left mempool\n",
      "Operation opZPWAxhLwouYaBpcqSLt1iNU2hqNsqLPokyUHgCWKRUM4D4ACG has been included to block BKkMcKH2KfM4xQtygVbbMxSPN2n3W2AEnt51tLtVP6PWFbvvm8D\n",
      "Operation opZPWAxhLwouYaBpcqSLt1iNU2hqNsqLPokyUHgCWKRUM4D4ACG has 1/1 confirmations\n",
      "Operation ooUAvMLQH8QNmjtvQ9v9dicM4qtAx6UV8YTX6DsCwiwnr46bgQw is still in mempool\n",
      "Current level: 63 (max 183)\n",
      "Sleep 4 seconds until block BKkMcKH2KfM4xQtygVbbMxSPN2n3W2AEnt51tLtVP6PWFbvvm8D is superseded\n",
      "Found new block BLVojmdKPFqEicQe39rS79SUSwdisM2nr3CfQmj9PbeA8nPVidW (0 sec delay)\n",
      "Operation ooUAvMLQH8QNmjtvQ9v9dicM4qtAx6UV8YTX6DsCwiwnr46bgQw has left mempool\n",
      "Operation ooUAvMLQH8QNmjtvQ9v9dicM4qtAx6UV8YTX6DsCwiwnr46bgQw has been included to block BLVojmdKPFqEicQe39rS79SUSwdisM2nr3CfQmj9PbeA8nPVidW\n",
      "Operation ooUAvMLQH8QNmjtvQ9v9dicM4qtAx6UV8YTX6DsCwiwnr46bgQw has 1/1 confirmations\n",
      "Operation opEBDBN6QKTkJKdRBqa15XeoFcg3YsUiiWrRYJwvSB89FZLh7jU is still in mempool\n",
      "Current level: 64 (max 184)\n",
      "Sleep 4 seconds until block BLVojmdKPFqEicQe39rS79SUSwdisM2nr3CfQmj9PbeA8nPVidW is superseded\n",
      "Found new block BL1FTjntURddsxtuBpN9J8uiX3TJaGHtZ4TZ1x9mypgkkVbmL2K (0 sec delay)\n",
      "Operation opEBDBN6QKTkJKdRBqa15XeoFcg3YsUiiWrRYJwvSB89FZLh7jU has left mempool\n",
      "Operation opEBDBN6QKTkJKdRBqa15XeoFcg3YsUiiWrRYJwvSB89FZLh7jU has been included to block BL1FTjntURddsxtuBpN9J8uiX3TJaGHtZ4TZ1x9mypgkkVbmL2K\n",
      "Operation opEBDBN6QKTkJKdRBqa15XeoFcg3YsUiiWrRYJwvSB89FZLh7jU has 1/1 confirmations\n",
      "Operation opajR5hz7LU1e8B9zoNcU39QKFXy2itKrHD6ja6vBWUtGHYXpdQ is still in mempool\n",
      "Current level: 65 (max 185)\n",
      "Sleep 4 seconds until block BL1FTjntURddsxtuBpN9J8uiX3TJaGHtZ4TZ1x9mypgkkVbmL2K is superseded\n",
      "Found new block BMf1QMzT3rBdR3aXg1guwPLA86D3Fy8CebPNjw3J9ksrtoPFsTN (0 sec delay)\n",
      "Operation opajR5hz7LU1e8B9zoNcU39QKFXy2itKrHD6ja6vBWUtGHYXpdQ has left mempool\n",
      "Operation opajR5hz7LU1e8B9zoNcU39QKFXy2itKrHD6ja6vBWUtGHYXpdQ has been included to block BMf1QMzT3rBdR3aXg1guwPLA86D3Fy8CebPNjw3J9ksrtoPFsTN\n",
      "Operation opajR5hz7LU1e8B9zoNcU39QKFXy2itKrHD6ja6vBWUtGHYXpdQ has 1/1 confirmations\n",
      "Operation onzRT2HcqP6fzcqZXXHYmgowaar7CGBGx1j1a386gnEeBTfDvsw is still in mempool\n",
      "Current level: 66 (max 186)\n",
      "Sleep 4 seconds until block BMf1QMzT3rBdR3aXg1guwPLA86D3Fy8CebPNjw3J9ksrtoPFsTN is superseded\n",
      "Found new block BMVojB8jX5brx5Xk8kJMgTYwUKwguN5UJPjW3hKyM8SECm4qhYe (0 sec delay)\n",
      "Operation onzRT2HcqP6fzcqZXXHYmgowaar7CGBGx1j1a386gnEeBTfDvsw has left mempool\n",
      "Operation onzRT2HcqP6fzcqZXXHYmgowaar7CGBGx1j1a386gnEeBTfDvsw has been included to block BMVojB8jX5brx5Xk8kJMgTYwUKwguN5UJPjW3hKyM8SECm4qhYe\n",
      "Operation onzRT2HcqP6fzcqZXXHYmgowaar7CGBGx1j1a386gnEeBTfDvsw has 1/1 confirmations\n"
     ]
    }
   ],
   "source": [
    "for account in test_accounts:\n",
    "    do_it(account[\"ptz\"], wtez.deposit(), amount=int(account[\"wtez_to_mint\"]))\n",
    "    add_operator_fa2(account[\"ptz\"], ch.address, wtez, 2)    "
   ]
  },
  {
   "cell_type": "markdown",
   "id": "69f85ca0",
   "metadata": {},
   "source": [
    "This is the big map used as a ledger for Wtez tokens:"
   ]
  },
  {
   "cell_type": "code",
   "execution_count": 16,
   "id": "38e1f96e",
   "metadata": {},
   "outputs": [
    {
     "data": {
      "text/plain": [
       "[{'int': '1500000000'},\n",
       " {'int': '6000000000'},\n",
       " {'int': '1200000000'},\n",
       " {'int': '10001000000'},\n",
       " {'int': '5000000000'}]"
      ]
     },
     "execution_count": 16,
     "metadata": {},
     "output_type": "execute_result"
    }
   ],
   "source": [
    "wtez_ledger_id = wtez.storage[\"fa2_state\"][\"ledger\"]()\n",
    "alice_ptz.shell.head.context.big_maps[wtez_ledger_id]()"
   ]
  },
  {
   "cell_type": "code",
   "execution_count": 17,
   "id": "f081b7e0",
   "metadata": {
    "scrolled": true
   },
   "outputs": [
    {
     "name": "stderr",
     "output_type": "stream",
     "text": [
      "Operation ooJVbag73w3vb2du4hCoqCaVJiJuQmdfbcwVLcriUxhpVmpHYX9 is still in mempool\n",
      "Current level: 67 (max 187)\n",
      "Sleep 4 seconds until block BMVojB8jX5brx5Xk8kJMgTYwUKwguN5UJPjW3hKyM8SECm4qhYe is superseded\n",
      "Found new block BLJpboPGx9xNqei7RayoDciqPPauMyaTHAiaCQf6XsyCcwnUNc3 (0 sec delay)\n",
      "Operation ooJVbag73w3vb2du4hCoqCaVJiJuQmdfbcwVLcriUxhpVmpHYX9 has left mempool\n",
      "Operation ooJVbag73w3vb2du4hCoqCaVJiJuQmdfbcwVLcriUxhpVmpHYX9 has been included to block BLJpboPGx9xNqei7RayoDciqPPauMyaTHAiaCQf6XsyCcwnUNc3\n",
      "Operation ooJVbag73w3vb2du4hCoqCaVJiJuQmdfbcwVLcriUxhpVmpHYX9 has 1/1 confirmations\n",
      "Operation opKJkJwvKbmvVJRt6WzzkhsGDyDvUhV7egEtqXvMJdaGASjWspu is still in mempool\n",
      "Current level: 68 (max 188)\n",
      "Sleep 4 seconds until block BLJpboPGx9xNqei7RayoDciqPPauMyaTHAiaCQf6XsyCcwnUNc3 is superseded\n",
      "Found new block BMFLjrbgiByxxx2AuAUMpcdLHS4uTYdEg4bnD2VPPBY1u9A1Y2Y (0 sec delay)\n",
      "Operation opKJkJwvKbmvVJRt6WzzkhsGDyDvUhV7egEtqXvMJdaGASjWspu has left mempool\n",
      "Operation opKJkJwvKbmvVJRt6WzzkhsGDyDvUhV7egEtqXvMJdaGASjWspu has been included to block BMFLjrbgiByxxx2AuAUMpcdLHS4uTYdEg4bnD2VPPBY1u9A1Y2Y\n",
      "Operation opKJkJwvKbmvVJRt6WzzkhsGDyDvUhV7egEtqXvMJdaGASjWspu has 1/1 confirmations\n",
      "Operation ooWA8QLMncWYZzcL4orTuaT3dLKLSiGEWt8aCsXa6GzMyM6naTM is still in mempool\n",
      "Current level: 69 (max 189)\n",
      "Sleep 4 seconds until block BMFLjrbgiByxxx2AuAUMpcdLHS4uTYdEg4bnD2VPPBY1u9A1Y2Y is superseded\n",
      "Found new block BMW4cvmCn9XfYn68xYJpQiFGnAHthDzWS66CoiqZFMyeFYazKDK (0 sec delay)\n",
      "Operation ooWA8QLMncWYZzcL4orTuaT3dLKLSiGEWt8aCsXa6GzMyM6naTM has left mempool\n",
      "Operation ooWA8QLMncWYZzcL4orTuaT3dLKLSiGEWt8aCsXa6GzMyM6naTM has been included to block BMW4cvmCn9XfYn68xYJpQiFGnAHthDzWS66CoiqZFMyeFYazKDK\n",
      "Operation ooWA8QLMncWYZzcL4orTuaT3dLKLSiGEWt8aCsXa6GzMyM6naTM has 1/1 confirmations\n",
      "Operation opJsffwZ9PKRE2uwpHuKKQKFkF9d8uEvgTtyh2JAgma1hKvjR3n is still in mempool\n",
      "Current level: 70 (max 190)\n",
      "Sleep 3 seconds until block BMW4cvmCn9XfYn68xYJpQiFGnAHthDzWS66CoiqZFMyeFYazKDK is superseded\n",
      "Found new block BLuYZgbFWxKwWVAR1TKMF495Dv7ZxoUcNc8TqEadvQsstGN3QJ1 (0 sec delay)\n",
      "Operation opJsffwZ9PKRE2uwpHuKKQKFkF9d8uEvgTtyh2JAgma1hKvjR3n has left mempool\n",
      "Operation opJsffwZ9PKRE2uwpHuKKQKFkF9d8uEvgTtyh2JAgma1hKvjR3n has been included to block BLuYZgbFWxKwWVAR1TKMF495Dv7ZxoUcNc8TqEadvQsstGN3QJ1\n",
      "Operation opJsffwZ9PKRE2uwpHuKKQKFkF9d8uEvgTtyh2JAgma1hKvjR3n has 1/1 confirmations\n",
      "Operation onixQMHxFwceNQybh9mpbkW7pZojJkrqv27rWWUHnNR826D4KDA is still in mempool\n",
      "Current level: 71 (max 191)\n",
      "Sleep 4 seconds until block BLuYZgbFWxKwWVAR1TKMF495Dv7ZxoUcNc8TqEadvQsstGN3QJ1 is superseded\n",
      "Found new block BLpNKi9h2eaKnhsEB5Zw6pFXJ7w8qSchDQafn1BUDF7Xm5qcsx1 (0 sec delay)\n",
      "Operation onixQMHxFwceNQybh9mpbkW7pZojJkrqv27rWWUHnNR826D4KDA has left mempool\n",
      "Operation onixQMHxFwceNQybh9mpbkW7pZojJkrqv27rWWUHnNR826D4KDA has been included to block BLpNKi9h2eaKnhsEB5Zw6pFXJ7w8qSchDQafn1BUDF7Xm5qcsx1\n",
      "Operation onixQMHxFwceNQybh9mpbkW7pZojJkrqv27rWWUHnNR826D4KDA has 1/1 confirmations\n"
     ]
    }
   ],
   "source": [
    "for account in test_accounts:\n",
    "    do_it(account[\"ptz\"], ch.create_burrow((0, None, int(1e6))))"
   ]
  },
  {
   "cell_type": "markdown",
   "id": "270d3b1f",
   "metadata": {},
   "source": [
    "All burrows need to have enough collateral (210% by default) to mint kits. Before playing with the oracle price or Checker's CFMM, we're going to mint various amount of kits and use the smart contract's views to get information about each burrow's state."
   ]
  },
  {
   "cell_type": "code",
   "execution_count": 18,
   "id": "f4d76bf8",
   "metadata": {
    "scrolled": true
   },
   "outputs": [
    {
     "name": "stderr",
     "output_type": "stream",
     "text": [
      "Operation oohYXBrK5vcaVTDV5GDChHb828YhkdSJNDu43U3vC4V6qCZBqzV is still in mempool\n",
      "Current level: 72 (max 192)\n",
      "Sleep 4 seconds until block BLpNKi9h2eaKnhsEB5Zw6pFXJ7w8qSchDQafn1BUDF7Xm5qcsx1 is superseded\n",
      "Found new block BLTmckDr4qvjaDs8owiB7RKfuH5WKWJ3jePZ1xd8Lv1ahbfsz4N (0 sec delay)\n",
      "Operation oohYXBrK5vcaVTDV5GDChHb828YhkdSJNDu43U3vC4V6qCZBqzV has left mempool\n",
      "Operation oohYXBrK5vcaVTDV5GDChHb828YhkdSJNDu43U3vC4V6qCZBqzV has been included to block BLTmckDr4qvjaDs8owiB7RKfuH5WKWJ3jePZ1xd8Lv1ahbfsz4N\n",
      "Operation oohYXBrK5vcaVTDV5GDChHb828YhkdSJNDu43U3vC4V6qCZBqzV has 1/1 confirmations\n",
      "Operation opFUx47HzXykidCLb6FuSmKd747S5PXoGU95KeA2uzP4AEf8XrQ is still in mempool\n",
      "Current level: 73 (max 193)\n",
      "Sleep 4 seconds until block BLTmckDr4qvjaDs8owiB7RKfuH5WKWJ3jePZ1xd8Lv1ahbfsz4N is superseded\n",
      "Found new block BMTz7ytWXYKedbQbqo2VsC4YwifgDpyXQxpE4jntnjmoXthHeMf (0 sec delay)\n",
      "Operation opFUx47HzXykidCLb6FuSmKd747S5PXoGU95KeA2uzP4AEf8XrQ has left mempool\n",
      "Operation opFUx47HzXykidCLb6FuSmKd747S5PXoGU95KeA2uzP4AEf8XrQ has been included to block BMTz7ytWXYKedbQbqo2VsC4YwifgDpyXQxpE4jntnjmoXthHeMf\n",
      "Operation opFUx47HzXykidCLb6FuSmKd747S5PXoGU95KeA2uzP4AEf8XrQ has 1/1 confirmations\n",
      "Operation oor18Xi3oZKqXnLxwuqSwacNQJpLBaVnKuQeZiNCiTd4SYuRTVd is still in mempool\n",
      "Current level: 74 (max 194)\n",
      "Sleep 4 seconds until block BMTz7ytWXYKedbQbqo2VsC4YwifgDpyXQxpE4jntnjmoXthHeMf is superseded\n",
      "Found new block BLSVHX5212MrVQQi2Sgqg1BJh4CcRrKyUxP1RJU4BfBG5qPaAbu (0 sec delay)\n",
      "Operation oor18Xi3oZKqXnLxwuqSwacNQJpLBaVnKuQeZiNCiTd4SYuRTVd has left mempool\n",
      "Operation oor18Xi3oZKqXnLxwuqSwacNQJpLBaVnKuQeZiNCiTd4SYuRTVd has been included to block BLSVHX5212MrVQQi2Sgqg1BJh4CcRrKyUxP1RJU4BfBG5qPaAbu\n",
      "Operation oor18Xi3oZKqXnLxwuqSwacNQJpLBaVnKuQeZiNCiTd4SYuRTVd has 1/1 confirmations\n",
      "Operation opVEn5aH1KrJUZ8PcoQKMjrQwA7WaQsjAosA3Fhsz8fpRTEQVer is still in mempool\n",
      "Current level: 75 (max 195)\n",
      "Sleep 4 seconds until block BLSVHX5212MrVQQi2Sgqg1BJh4CcRrKyUxP1RJU4BfBG5qPaAbu is superseded\n",
      "Found new block BM5uu6LYQWAK8dniHRs4KtYBpyCdfTPZ8myv5PGL6ygc1Vg3cxp (0 sec delay)\n",
      "Operation opVEn5aH1KrJUZ8PcoQKMjrQwA7WaQsjAosA3Fhsz8fpRTEQVer has left mempool\n",
      "Operation opVEn5aH1KrJUZ8PcoQKMjrQwA7WaQsjAosA3Fhsz8fpRTEQVer has been included to block BM5uu6LYQWAK8dniHRs4KtYBpyCdfTPZ8myv5PGL6ygc1Vg3cxp\n",
      "Operation opVEn5aH1KrJUZ8PcoQKMjrQwA7WaQsjAosA3Fhsz8fpRTEQVer has 1/1 confirmations\n",
      "Operation opGauh6KTQWAn4iFjXrigmUsWedSpHzZXFH4iomKigJnCWpeN6m is still in mempool\n",
      "Current level: 76 (max 196)\n",
      "Sleep 4 seconds until block BM5uu6LYQWAK8dniHRs4KtYBpyCdfTPZ8myv5PGL6ygc1Vg3cxp is superseded\n",
      "Found new block BL8oc1s74noeMT9Jxazxv2GQ5FPn2tti2Ne6xmXpuV7SKFsRgft (0 sec delay)\n",
      "Operation opGauh6KTQWAn4iFjXrigmUsWedSpHzZXFH4iomKigJnCWpeN6m has left mempool\n",
      "Operation opGauh6KTQWAn4iFjXrigmUsWedSpHzZXFH4iomKigJnCWpeN6m has been included to block BL8oc1s74noeMT9Jxazxv2GQ5FPn2tti2Ne6xmXpuV7SKFsRgft\n",
      "Operation opGauh6KTQWAn4iFjXrigmUsWedSpHzZXFH4iomKigJnCWpeN6m has 1/1 confirmations\n",
      "Operation oozBTuENo45RLMNYdP58TyjFeAYcTgbRFufe82xuYPcunsWWkxb is still in mempool\n",
      "Current level: 77 (max 197)\n",
      "Sleep 4 seconds until block BL8oc1s74noeMT9Jxazxv2GQ5FPn2tti2Ne6xmXpuV7SKFsRgft is superseded\n",
      "Found new block BMSvekB8Gi7QcuBH324n1vKvSmRYjsiM3XbPGhMj6WKV9x9eMek (0 sec delay)\n",
      "Operation oozBTuENo45RLMNYdP58TyjFeAYcTgbRFufe82xuYPcunsWWkxb has left mempool\n",
      "Operation oozBTuENo45RLMNYdP58TyjFeAYcTgbRFufe82xuYPcunsWWkxb has been included to block BMSvekB8Gi7QcuBH324n1vKvSmRYjsiM3XbPGhMj6WKV9x9eMek\n",
      "Operation oozBTuENo45RLMNYdP58TyjFeAYcTgbRFufe82xuYPcunsWWkxb has 1/1 confirmations\n",
      "Operation opTdK9BNhAy8TDjzt2FCwrcUupuHL6iZAE7kMXtYEGg73iXHCrb is still in mempool\n",
      "Current level: 78 (max 198)\n",
      "Sleep 4 seconds until block BMSvekB8Gi7QcuBH324n1vKvSmRYjsiM3XbPGhMj6WKV9x9eMek is superseded\n",
      "Found new block BL3BwF9SxBhGL1istqGGFywzBac45jTjKofzQRui1ooSBr2jjSy (0 sec delay)\n",
      "Operation opTdK9BNhAy8TDjzt2FCwrcUupuHL6iZAE7kMXtYEGg73iXHCrb has left mempool\n",
      "Operation opTdK9BNhAy8TDjzt2FCwrcUupuHL6iZAE7kMXtYEGg73iXHCrb has been included to block BL3BwF9SxBhGL1istqGGFywzBac45jTjKofzQRui1ooSBr2jjSy\n",
      "Operation opTdK9BNhAy8TDjzt2FCwrcUupuHL6iZAE7kMXtYEGg73iXHCrb has 1/1 confirmations\n",
      "Operation onq2ngAbk6mtiu7fL1iNG5WBvCfbcS9V9HDAdPQXxbqKRVgc7rE is still in mempool\n",
      "Current level: 79 (max 199)\n",
      "Sleep 4 seconds until block BL3BwF9SxBhGL1istqGGFywzBac45jTjKofzQRui1ooSBr2jjSy is superseded\n",
      "Found new block BMEudwN1jAKmMZjyAP7ZWHBG323HpVpBomt5m19PfokRmc8ixCD (0 sec delay)\n",
      "Operation onq2ngAbk6mtiu7fL1iNG5WBvCfbcS9V9HDAdPQXxbqKRVgc7rE has left mempool\n",
      "Operation onq2ngAbk6mtiu7fL1iNG5WBvCfbcS9V9HDAdPQXxbqKRVgc7rE has been included to block BMEudwN1jAKmMZjyAP7ZWHBG323HpVpBomt5m19PfokRmc8ixCD\n",
      "Operation onq2ngAbk6mtiu7fL1iNG5WBvCfbcS9V9HDAdPQXxbqKRVgc7rE has 1/1 confirmations\n",
      "Operation ooL2NdzYst7WMg5C362WzH88vU2Z4B3wTDsrKnu8u4ruSyJP6ub is still in mempool\n",
      "Current level: 80 (max 200)\n",
      "Sleep 3 seconds until block BMEudwN1jAKmMZjyAP7ZWHBG323HpVpBomt5m19PfokRmc8ixCD is superseded\n",
      "Found new block BLFdKzEbyagNUNM2gzA5KkDPuWoQJnkqcAEp4iHQq1G32K8QefM (0 sec delay)\n",
      "Operation ooL2NdzYst7WMg5C362WzH88vU2Z4B3wTDsrKnu8u4ruSyJP6ub has left mempool\n",
      "Operation ooL2NdzYst7WMg5C362WzH88vU2Z4B3wTDsrKnu8u4ruSyJP6ub has been included to block BLFdKzEbyagNUNM2gzA5KkDPuWoQJnkqcAEp4iHQq1G32K8QefM\n",
      "Operation ooL2NdzYst7WMg5C362WzH88vU2Z4B3wTDsrKnu8u4ruSyJP6ub has 1/1 confirmations\n",
      "Operation ooMhehUpescbs7H4rgqeRqqPspTx56d37mXVGUVSiZLRLSRCfVg is still in mempool\n",
      "Current level: 81 (max 201)\n",
      "Sleep 4 seconds until block BLFdKzEbyagNUNM2gzA5KkDPuWoQJnkqcAEp4iHQq1G32K8QefM is superseded\n",
      "Found new block BL1N1oxBXK91oZusrbXoZWhh5Bu7VvRLtiiwx3KW8ELLeSaKkc2 (0 sec delay)\n",
      "Operation ooMhehUpescbs7H4rgqeRqqPspTx56d37mXVGUVSiZLRLSRCfVg has left mempool\n",
      "Operation ooMhehUpescbs7H4rgqeRqqPspTx56d37mXVGUVSiZLRLSRCfVg has been included to block BL1N1oxBXK91oZusrbXoZWhh5Bu7VvRLtiiwx3KW8ELLeSaKkc2\n",
      "Operation ooMhehUpescbs7H4rgqeRqqPspTx56d37mXVGUVSiZLRLSRCfVg has 1/1 confirmations\n"
     ]
    }
   ],
   "source": [
    "for account in test_accounts:\n",
    "    do_it(account[\"ptz\"], ch.deposit_collateral(0, int(account[\"wtez_to_mint\"]-2*tez)))\n",
    "    do_it(account[\"ptz\"], ch.mint_kit(0, int((10/21)*(account[\"kits_to_mint\"]-2*tez))))"
   ]
  },
  {
   "cell_type": "markdown",
   "id": "8efdaadc",
   "metadata": {},
   "source": [
    "Checker's ledger gives us some information about the kits minted by every actor. Later on, it will also list the CFMM's liquidity tokens (which have a different FA2 token ID), so keep in mind that we only use it as a hint."
   ]
  },
  {
   "cell_type": "code",
   "execution_count": 19,
   "id": "03ad6894",
   "metadata": {},
   "outputs": [
    {
     "data": {
      "text/plain": [
       "[{'int': '951428571'},\n",
       " {'int': '475238095'},\n",
       " {'int': '475238095'},\n",
       " {'int': '2380000000'},\n",
       " {'int': '4760952380'}]"
      ]
     },
     "execution_count": 19,
     "metadata": {},
     "output_type": "execute_result"
    }
   ],
   "source": [
    "kits_ledger_id = ch.storage[\"deployment_state\"][\"sealed\"][\"fa2_state\"][\"ledger\"]()\n",
    "alice_ptz.shell.head.context.big_maps[kits_ledger_id]()"
   ]
  },
  {
   "cell_type": "markdown",
   "id": "47ee45c7",
   "metadata": {},
   "source": [
    "How close is everyone from its collateral limit? We can know this by using the `burrow_max_mintable_kit` view and comparing to the quantity we know we minted."
   ]
  },
  {
   "cell_type": "code",
   "execution_count": 20,
   "id": "5cb1b236",
   "metadata": {},
   "outputs": [],
   "source": [
    "kits_ledger = ch.storage[\"deployment_state\"][\"sealed\"][\"fa2_state\"][\"ledger\"]"
   ]
  },
  {
   "cell_type": "code",
   "execution_count": 21,
   "id": "4a1961ac",
   "metadata": {},
   "outputs": [
    {
     "name": "stdout",
     "output_type": "stream",
     "text": [
      "475.238095 \t\t 570.47619 \t\t False\n",
      "475.238095 \t\t 713.333333 \t\t False\n",
      "2380.0 \t\t 2856.190476 \t\t False\n",
      "4760.95238 \t\t 4761.428571 \t\t False\n",
      "951.428571 \t\t 2380.0 \t\t False\n"
     ]
    }
   ],
   "source": [
    "for account in test_accounts:\n",
    "    # This is actually the amount than an address holds, but we didn't transfer any kit so far.\n",
    "    minted = kits_ledger[(0, account[\"address\"])]() / tez\n",
    "    max_mintable = ch.burrow_max_mintable_kit(account[\"address\"], 0).onchain_view() / tez\n",
    "    is_overburrowed = ch.is_burrow_overburrowed(account[\"address\"], 0).onchain_view()\n",
    "    print(minted, \"\\t\\t\", max_mintable, \"\\t\\t\", is_overburrowed)"
   ]
  },
  {
   "cell_type": "markdown",
   "id": "f6005959",
   "metadata": {},
   "source": [
    "Checker's state is updated through the `touch` entrypoint. A call to `touch` can be a bit costly, so the system rewards whoever calls it. To keep things simple here, we're going to have `alice` call this entrypoint every time.\n",
    "\n",
    "In the ideal situation, `touch` is called in each block. However, all internal computations are time-dependent and the actual frequency of these calls does not change the system's behaviour."
   ]
  },
  {
   "cell_type": "code",
   "execution_count": 22,
   "id": "04b9b050",
   "metadata": {},
   "outputs": [
    {
     "name": "stderr",
     "output_type": "stream",
     "text": [
      "Operation opQhrvqJDY46F3MoUhbe7wpzgHWqtSJk5M8s4ecgFBZXjuy94GR is still in mempool\n",
      "Current level: 82 (max 202)\n",
      "Sleep 3 seconds until block BL1N1oxBXK91oZusrbXoZWhh5Bu7VvRLtiiwx3KW8ELLeSaKkc2 is superseded\n",
      "Found new block BKoyMZ5uokJK8dNC5yhozkVHkqjbtSF3PYBkJzGBx48pTS6XXs5 (0 sec delay)\n",
      "Operation opQhrvqJDY46F3MoUhbe7wpzgHWqtSJk5M8s4ecgFBZXjuy94GR has left mempool\n",
      "Operation opQhrvqJDY46F3MoUhbe7wpzgHWqtSJk5M8s4ecgFBZXjuy94GR has been included to block BKoyMZ5uokJK8dNC5yhozkVHkqjbtSF3PYBkJzGBx48pTS6XXs5\n",
      "Operation opQhrvqJDY46F3MoUhbe7wpzgHWqtSJk5M8s4ecgFBZXjuy94GR has 1/1 confirmations\n"
     ]
    }
   ],
   "source": [
    "_ = do_it(alice_ptz, ch.touch())"
   ]
  },
  {
   "cell_type": "markdown",
   "id": "79aabc95",
   "metadata": {},
   "source": [
    "Checker adapts the quantity of mintable kits slowly over time, depending on:\n",
    "* the total quantity of minted kits;\n",
    "* the index given by the oracle;\n",
    "* the price of kit in tez in the previous, given by Checker's CFMM."
   ]
  },
  {
   "cell_type": "code",
   "execution_count": 23,
   "id": "6c37ad53",
   "metadata": {},
   "outputs": [
    {
     "data": {
      "text/plain": [
       "{'burrow_fee_index': 18446744517970629048,\n",
       " 'circulating_kit': 9043110691,\n",
       " 'drift': 0,\n",
       " 'drift_derivative': 0,\n",
       " 'imbalance_index': 18446744075576375954,\n",
       " 'index': 18446744073709551616,\n",
       " 'last_touched': 1687452023,\n",
       " 'outstanding_kit': 9042857358,\n",
       " 'protected_index': 18446744073709551616,\n",
       " 'q': 18446744073709551616,\n",
       " 'target': 18446744073709551616}"
      ]
     },
     "execution_count": 23,
     "metadata": {},
     "output_type": "execute_result"
    }
   ],
   "source": [
    "ch.parameters()"
   ]
  },
  {
   "cell_type": "code",
   "execution_count": 26,
   "id": "acf1890a",
   "metadata": {},
   "outputs": [
    {
     "data": {
      "text/plain": [
       "{'ctok': 1,\n",
       " 'kit': 218,\n",
       " 'kit_in_ctok_in_prev_block': {'den': 1000000, 'num': 1000000},\n",
       " 'last_level': 83,\n",
       " 'lqt': 1}"
      ]
     },
     "execution_count": 26,
     "metadata": {},
     "output_type": "execute_result"
    }
   ],
   "source": [
    "ch.cfmm()"
   ]
  },
  {
   "cell_type": "markdown",
   "id": "4440e7c3",
   "metadata": {},
   "source": [
    "So far, we added no liquidity to the CFMM. However, in its default configuration (decided at compile-time), Checker mints kits to reward `touch` caller and the CFMM liquidity providers. Let's call `touch` a few more times."
   ]
  },
  {
   "cell_type": "code",
   "execution_count": 27,
   "id": "1ed13ffc",
   "metadata": {
    "scrolled": true
   },
   "outputs": [
    {
     "name": "stderr",
     "output_type": "stream",
     "text": [
      "Operation opXTCBE8ztQ4hvo9SapXXQTwntJGm9mEAgRuE491CLnBocxvEqd is still in mempool\n",
      "Current level: 97 (max 217)\n",
      "Sleep 4 seconds until block BLjq5RX53kKvWr3aj9stD7t2RtgVJDMLZnEeAh4Bh8ukteyYtMh is superseded\n",
      "Found new block BMR85tt58JPYT3PLbG6tW81dWaaAkkVUmuw5TFFMrGZTi6Reg8b (0 sec delay)\n",
      "Operation opXTCBE8ztQ4hvo9SapXXQTwntJGm9mEAgRuE491CLnBocxvEqd has left mempool\n",
      "Operation opXTCBE8ztQ4hvo9SapXXQTwntJGm9mEAgRuE491CLnBocxvEqd has been included to block BMR85tt58JPYT3PLbG6tW81dWaaAkkVUmuw5TFFMrGZTi6Reg8b\n",
      "Operation opXTCBE8ztQ4hvo9SapXXQTwntJGm9mEAgRuE491CLnBocxvEqd has 1/1 confirmations\n",
      "Operation opE9U49VhqVsMvv95RCBR81B8HgFeJd7t9jmRR9G5kLZ4gTubmr is still in mempool\n",
      "Current level: 98 (max 218)\n",
      "Sleep 4 seconds until block BMR85tt58JPYT3PLbG6tW81dWaaAkkVUmuw5TFFMrGZTi6Reg8b is superseded\n",
      "Found new block BLxwTsdy5kiREPNbcURWDmHt32KpYV7ZyuXF43dm2aCcgpkxBe8 (0 sec delay)\n",
      "Operation opE9U49VhqVsMvv95RCBR81B8HgFeJd7t9jmRR9G5kLZ4gTubmr has left mempool\n",
      "Operation opE9U49VhqVsMvv95RCBR81B8HgFeJd7t9jmRR9G5kLZ4gTubmr has been included to block BLxwTsdy5kiREPNbcURWDmHt32KpYV7ZyuXF43dm2aCcgpkxBe8\n",
      "Operation opE9U49VhqVsMvv95RCBR81B8HgFeJd7t9jmRR9G5kLZ4gTubmr has 1/1 confirmations\n",
      "Operation opA755dSYGsPx6423M5nVwbWEeHRv1sARmMg7kmLRmuNfwQUZMs is still in mempool\n",
      "Current level: 99 (max 219)\n",
      "Sleep 4 seconds until block BLxwTsdy5kiREPNbcURWDmHt32KpYV7ZyuXF43dm2aCcgpkxBe8 is superseded\n",
      "Found new block BLvEifKYVEupZgjx3ePcuzmZVsavqp8TqrKpiUEgSS5TDUQJQaN (0 sec delay)\n",
      "Operation opA755dSYGsPx6423M5nVwbWEeHRv1sARmMg7kmLRmuNfwQUZMs has left mempool\n",
      "Operation opA755dSYGsPx6423M5nVwbWEeHRv1sARmMg7kmLRmuNfwQUZMs has been included to block BLvEifKYVEupZgjx3ePcuzmZVsavqp8TqrKpiUEgSS5TDUQJQaN\n",
      "Operation opA755dSYGsPx6423M5nVwbWEeHRv1sARmMg7kmLRmuNfwQUZMs has 1/1 confirmations\n"
     ]
    }
   ],
   "source": [
    "_ = do_it(alice_ptz, ch.touch())\n",
    "_ = do_it(alice_ptz, ch.touch())\n",
    "_ = do_it(alice_ptz, ch.touch())"
   ]
  },
  {
   "cell_type": "markdown",
   "id": "6387339c",
   "metadata": {},
   "source": [
    "As we never added more liquidity than the initial `1e-6ctez`, this upsets the system's balance."
   ]
  },
  {
   "cell_type": "code",
   "execution_count": 44,
   "id": "4b60b108",
   "metadata": {},
   "outputs": [
    {
     "data": {
      "text/plain": [
       "{'ctok': 1,\n",
       " 'kit': 345,\n",
       " 'kit_in_ctok_in_prev_block': {'den': 334000000, 'num': 1000000},\n",
       " 'last_level': 106,\n",
       " 'lqt': 1}"
      ]
     },
     "execution_count": 44,
     "metadata": {},
     "output_type": "execute_result"
    }
   ],
   "source": [
    "ch.cfmm()"
   ]
  },
  {
   "cell_type": "markdown",
   "id": "4e68b9de",
   "metadata": {},
   "source": [
    "The new target computation is a roughly given by:"
   ]
  },
  {
   "cell_type": "code",
   "execution_count": 29,
   "id": "127b8cd3",
   "metadata": {},
   "outputs": [
    {
     "data": {
      "text/plain": [
       "5.681597174703556e+21"
      ]
     },
     "execution_count": 29,
     "metadata": {},
     "output_type": "execute_result"
    }
   ],
   "source": [
    "previous_cfmm_state = ch.cfmm()[\"kit_in_ctok_in_prev_block\"]\n",
    "ch.index() * ch.q() / (previous_cfmm_state[\"num\"]/previous_cfmm_state[\"den\"] * 2**64)"
   ]
  },
  {
   "cell_type": "markdown",
   "id": "1f5dc8df",
   "metadata": {},
   "source": [
    "As the target is very large, Checker starts compensating by slowly raising the `drift`, which will slowly penalize minters and force them to fix the price:"
   ]
  },
  {
   "cell_type": "code",
   "execution_count": 30,
   "id": "b3f820d0",
   "metadata": {},
   "outputs": [
    {
     "data": {
      "text/plain": [
       "2471110"
      ]
     },
     "execution_count": 30,
     "metadata": {},
     "output_type": "execute_result"
    }
   ],
   "source": [
    "ch.drift()"
   ]
  },
  {
   "cell_type": "code",
   "execution_count": 31,
   "id": "16129734",
   "metadata": {},
   "outputs": [
    {
     "name": "stderr",
     "output_type": "stream",
     "text": [
      "Operation ooLrqazS2xF1H2ZFqu3YLnGDp4a2DiddBKRVuekVtCuKX3L4nKy is still in mempool\n",
      "Current level: 100 (max 220)\n",
      "Sleep 3 seconds until block BLvEifKYVEupZgjx3ePcuzmZVsavqp8TqrKpiUEgSS5TDUQJQaN is superseded\n",
      "Found new block BLpM84WezweV89agRob8F147fdxnEJ3MMXDemwUTrZ47JGL7Z1T (0 sec delay)\n",
      "Operation ooLrqazS2xF1H2ZFqu3YLnGDp4a2DiddBKRVuekVtCuKX3L4nKy has left mempool\n",
      "Operation ooLrqazS2xF1H2ZFqu3YLnGDp4a2DiddBKRVuekVtCuKX3L4nKy has been included to block BLpM84WezweV89agRob8F147fdxnEJ3MMXDemwUTrZ47JGL7Z1T\n",
      "Operation ooLrqazS2xF1H2ZFqu3YLnGDp4a2DiddBKRVuekVtCuKX3L4nKy has 1/1 confirmations\n"
     ]
    }
   ],
   "source": [
    "_ = do_it(alice_ptz, ch.touch())"
   ]
  },
  {
   "cell_type": "markdown",
   "id": "fd09e670",
   "metadata": {},
   "source": [
    "The drift will keep on increasing "
   ]
  },
  {
   "cell_type": "code",
   "execution_count": 32,
   "id": "f4434fcb",
   "metadata": {},
   "outputs": [
    {
     "data": {
      "text/plain": [
       "7413330"
      ]
     },
     "execution_count": 32,
     "metadata": {},
     "output_type": "execute_result"
    }
   ],
   "source": [
    "ch.drift()"
   ]
  },
  {
   "cell_type": "markdown",
   "id": "53f6ad1e",
   "metadata": {},
   "source": [
    "How does that affect the minters? Despite minting a few fresh kits for `alice` and the CFMM, Checker does not immediately overcompensate, and the burrows are still not overburrowed:"
   ]
  },
  {
   "cell_type": "code",
   "execution_count": 33,
   "id": "babdabc9",
   "metadata": {},
   "outputs": [
    {
     "name": "stdout",
     "output_type": "stream",
     "text": [
      "475.238095 \t\t 570.47619 \t\t False\n",
      "475.238095 \t\t 713.333333 \t\t False\n",
      "2380.0 \t\t 2856.190476 \t\t False\n",
      "4760.95238 \t\t 4761.428571 \t\t False\n",
      "951.428571 \t\t 2379.999999 \t\t False\n"
     ]
    }
   ],
   "source": [
    "for account in test_accounts:\n",
    "    # This is actually the amount than an address holds, but we didn't transfer any kit so far.\n",
    "    minted = kits_ledger[(0, account[\"address\"])]() / tez\n",
    "    max_mintable = ch.burrow_max_mintable_kit(account[\"address\"], 0).onchain_view() / tez\n",
    "    is_overburrowed = ch.is_burrow_overburrowed(account[\"address\"], 0).onchain_view()\n",
    "    print(minted, \"\\t\\t\", max_mintable, \"\\t\\t\", is_overburrowed)"
   ]
  },
  {
   "cell_type": "markdown",
   "id": "40e83073",
   "metadata": {},
   "source": [
    "If you compare with the previous call, all the burrows can mint slightly less new kits than before. However, none of them are overburrowed for now. With the current parameters, we'd have to wait a few hours for the 4th one to become overburrowed. Moreover, even after this one becomes overburrowed, it won't immediately become liquidatable."
   ]
  },
  {
   "cell_type": "markdown",
   "id": "6db09724",
   "metadata": {},
   "source": [
    "# TODO: time estimations, plots"
   ]
  },
  {
   "cell_type": "markdown",
   "id": "ed788a53",
   "metadata": {},
   "source": [
    "# TODO: oracle"
   ]
  },
  {
   "cell_type": "markdown",
   "id": "0f68a9a8",
   "metadata": {},
   "source": [
    "Let's refresh Checker's state:"
   ]
  },
  {
   "cell_type": "code",
   "execution_count": 34,
   "id": "b2d42644",
   "metadata": {},
   "outputs": [
    {
     "name": "stderr",
     "output_type": "stream",
     "text": [
      "Operation opGhaBXYqEWJb7rnv6ZRRNZP3jZUhFDPRkBnaehtfPsNxC4Nioz is still in mempool\n",
      "Current level: 101 (max 221)\n",
      "Sleep 3 seconds until block BLpM84WezweV89agRob8F147fdxnEJ3MMXDemwUTrZ47JGL7Z1T is superseded\n",
      "Found new block BLhYbo84YxMnYPTjq2LP9nRphbZyHXe4SrfbdpWiy6j6psrvFPG (0 sec delay)\n",
      "Operation opGhaBXYqEWJb7rnv6ZRRNZP3jZUhFDPRkBnaehtfPsNxC4Nioz has left mempool\n",
      "Operation opGhaBXYqEWJb7rnv6ZRRNZP3jZUhFDPRkBnaehtfPsNxC4Nioz has been included to block BLhYbo84YxMnYPTjq2LP9nRphbZyHXe4SrfbdpWiy6j6psrvFPG\n",
      "Operation opGhaBXYqEWJb7rnv6ZRRNZP3jZUhFDPRkBnaehtfPsNxC4Nioz has 1/1 confirmations\n"
     ]
    },
    {
     "data": {
      "text/plain": [
       "{'lazy_functions': 16,\n",
       " 'metadata': 17,\n",
       " 'deployment_state': {'sealed': {'burrows': 18,\n",
       "   'cfmm': {'ctok': 1,\n",
       "    'kit': 323,\n",
       "    'kit_in_ctok_in_prev_block': {'den': 318000000, 'num': 1000000},\n",
       "    'last_level': 102,\n",
       "    'lqt': 1},\n",
       "   'external_contracts': {'collateral_fa2': 'KT1FJDtuFLRjZajFWVwZZhfd2xxADmqc3qoc',\n",
       "    'ctez_cfmm': 'KT1J5WbrrzxCAMx3YEDGNEEmu7YwuPvxTynj',\n",
       "    'ctok_fa2': 'KT1JzZbLsSidp71Fq8VNHr4eq3BiDqS5U5sT',\n",
       "    'oracle': 'KT1C1SsTheFJJD96uDFNhCqBVyrEgZvikosQ'},\n",
       "   'fa2_state': {'ledger': 19, 'operators': 20},\n",
       "   'last_ctez_in_tez': {'den': 5043456793138493339171717132818382567050206626619577173497381555743452386751642958261026080625269202023248382759272448,\n",
       "    'num': 5043456793138493339171717132818382567050206626619577173497381555743452386751642958261026080625269202023248382759272448},\n",
       "   'last_index': 18446744073709551616,\n",
       "   'liquidation_auctions': {'avl_storage': {'last_ptr': 7, 'mem': 21},\n",
       "    'burrow_slices': 22,\n",
       "    'completed_auctions': None,\n",
       "    'current_auction': None,\n",
       "    'queued_slices': 1},\n",
       "   'parameters': {'burrow_fee_index': 18446744740101173601,\n",
       "    'circulating_kit': 9043237460,\n",
       "    'drift': 12355550,\n",
       "    'drift_derivative': 1235555,\n",
       "    'imbalance_index': 18446744076891152540,\n",
       "    'index': 18446744073709551616,\n",
       "    'last_touched': 1687452099,\n",
       "    'outstanding_kit': 9042857463,\n",
       "    'protected_index': 18446744073709551616,\n",
       "    'q': 18446744073772153069,\n",
       "    'target': 5773830895090683910597}}}}"
      ]
     },
     "execution_count": 34,
     "metadata": {},
     "output_type": "execute_result"
    }
   ],
   "source": [
    "_ = do_it(alice_ptz, ch.touch())\n",
    "ch.storage()"
   ]
  },
  {
   "cell_type": "markdown",
   "id": "25bc8389",
   "metadata": {},
   "source": [
    "What happens if the price of the oracle changes suddendly? Let's simulate a 10% price reduction of the collateral:"
   ]
  },
  {
   "cell_type": "code",
   "execution_count": 35,
   "id": "5c1f1f68",
   "metadata": {},
   "outputs": [
    {
     "name": "stderr",
     "output_type": "stream",
     "text": [
      "Operation ooGASM4eTHz135pTtmcUjccitVggXDv1X1VadpV3kpgQzH2i8BD is still in mempool\n",
      "Current level: 102 (max 222)\n",
      "Sleep 4 seconds until block BLhYbo84YxMnYPTjq2LP9nRphbZyHXe4SrfbdpWiy6j6psrvFPG is superseded\n",
      "Found new block BLbURjNCBUF7QxPLkTRFzneou2uN5wWYhGw8bexzvtoC1Jrbe8u (0 sec delay)\n",
      "Operation ooGASM4eTHz135pTtmcUjccitVggXDv1X1VadpV3kpgQzH2i8BD has left mempool\n",
      "Operation ooGASM4eTHz135pTtmcUjccitVggXDv1X1VadpV3kpgQzH2i8BD has been included to block BLbURjNCBUF7QxPLkTRFzneou2uN5wWYhGw8bexzvtoC1Jrbe8u\n",
      "Operation ooGASM4eTHz135pTtmcUjccitVggXDv1X1VadpV3kpgQzH2i8BD has 1/1 confirmations\n"
     ]
    }
   ],
   "source": [
    "_ = do_it(alice_ptz, oracle.default((10,9)))"
   ]
  },
  {
   "cell_type": "markdown",
   "id": "18c15b21",
   "metadata": {},
   "source": [
    "For Checker to adapt, once again, we have to call the `touch` entrypoint."
   ]
  },
  {
   "cell_type": "code",
   "execution_count": 36,
   "id": "8588e0bb",
   "metadata": {},
   "outputs": [
    {
     "name": "stderr",
     "output_type": "stream",
     "text": [
      "Operation ooW8N4dsWZ6jAAXmh9gMHsF48VGamPN6YvrmkmtUArxF84wTm1A is still in mempool\n",
      "Current level: 103 (max 223)\n",
      "Sleep 3 seconds until block BLbURjNCBUF7QxPLkTRFzneou2uN5wWYhGw8bexzvtoC1Jrbe8u is superseded\n",
      "Found new block BKj7Ej4aDV911oALnXyQ4MfsfTv3fgEh6T4cFfffuaSJTMeFY2j (0 sec delay)\n",
      "Operation ooW8N4dsWZ6jAAXmh9gMHsF48VGamPN6YvrmkmtUArxF84wTm1A has left mempool\n",
      "Operation ooW8N4dsWZ6jAAXmh9gMHsF48VGamPN6YvrmkmtUArxF84wTm1A has been included to block BKj7Ej4aDV911oALnXyQ4MfsfTv3fgEh6T4cFfffuaSJTMeFY2j\n",
      "Operation ooW8N4dsWZ6jAAXmh9gMHsF48VGamPN6YvrmkmtUArxF84wTm1A has 1/1 confirmations\n"
     ]
    },
    {
     "data": {
      "text/plain": [
       "{'burrow_fee_index': 18446744763483336415,\n",
       " 'circulating_kit': 9043250804,\n",
       " 'drift': 22239990,\n",
       " 'drift_derivative': 1235555,\n",
       " 'imbalance_index': 18446744077043701208,\n",
       " 'index': 20496382304121724017,\n",
       " 'last_touched': 1687452107,\n",
       " 'outstanding_kit': 9042857474,\n",
       " 'protected_index': 18447973856647798919,\n",
       " 'q': 18446744073910535229,\n",
       " 'target': 6517849572781722447332}"
      ]
     },
     "execution_count": 36,
     "metadata": {},
     "output_type": "execute_result"
    }
   ],
   "source": [
    "_ = do_it(alice_ptz, ch.touch())\n",
    "ch.parameters()"
   ]
  },
  {
   "cell_type": "markdown",
   "id": "c587d28c",
   "metadata": {},
   "source": [
    "Note that new `index` value is very different from the previous one, but not the `protected_index`. Also compare the values for `max_mintable_kit` from the previous ones:"
   ]
  },
  {
   "cell_type": "code",
   "execution_count": 37,
   "id": "07cbaab6",
   "metadata": {},
   "outputs": [
    {
     "data": {
      "text/plain": [
       "513.428571"
      ]
     },
     "execution_count": 37,
     "metadata": {},
     "output_type": "execute_result"
    }
   ],
   "source": [
    "account1 = test_accounts[0][\"address\"]\n",
    "ch.burrow_max_mintable_kit(account1, 0).onchain_view() / tez"
   ]
  },
  {
   "cell_type": "code",
   "execution_count": 38,
   "id": "4e557c18",
   "metadata": {},
   "outputs": [
    {
     "data": {
      "text/plain": [
       "4285.285714"
      ]
     },
     "execution_count": 38,
     "metadata": {},
     "output_type": "execute_result"
    }
   ],
   "source": [
    "account2 = test_accounts[3][\"address\"]\n",
    "ch.burrow_max_mintable_kit(account2, 0).onchain_view() / tez"
   ]
  },
  {
   "cell_type": "code",
   "execution_count": 39,
   "id": "93b436aa",
   "metadata": {},
   "outputs": [
    {
     "data": {
      "text/plain": [
       "True"
      ]
     },
     "execution_count": 39,
     "metadata": {},
     "output_type": "execute_result"
    }
   ],
   "source": [
    "ch.is_burrow_overburrowed(account2, 0).onchain_view()"
   ]
  },
  {
   "cell_type": "code",
   "execution_count": 40,
   "id": "37d4c08c",
   "metadata": {},
   "outputs": [
    {
     "data": {
      "text/plain": [
       "False"
      ]
     },
     "execution_count": 40,
     "metadata": {},
     "output_type": "execute_result"
    }
   ],
   "source": [
    "ch.is_burrow_liquidatable(account2, 0).onchain_view()"
   ]
  },
  {
   "cell_type": "markdown",
   "id": "4401997b",
   "metadata": {},
   "source": [
    "Finally, let's reduce the price some more and see what happens to the various `index` parameters:"
   ]
  },
  {
   "cell_type": "code",
   "execution_count": 41,
   "id": "b2b529f4",
   "metadata": {
    "scrolled": true
   },
   "outputs": [
    {
     "name": "stderr",
     "output_type": "stream",
     "text": [
      "Operation opNw43oANE2dtoKN9boPUqEX7SqR1ECwLfudMKoVTiDSeJLMyJe is still in mempool\n",
      "Current level: 104 (max 224)\n",
      "Sleep 4 seconds until block BKj7Ej4aDV911oALnXyQ4MfsfTv3fgEh6T4cFfffuaSJTMeFY2j is superseded\n",
      "Found new block BLCs5SwxieF7BrFVUNsfNthwmgy38NJVpWTANyBkM5H1wss79Wi (0 sec delay)\n",
      "Operation opNw43oANE2dtoKN9boPUqEX7SqR1ECwLfudMKoVTiDSeJLMyJe has left mempool\n",
      "Operation opNw43oANE2dtoKN9boPUqEX7SqR1ECwLfudMKoVTiDSeJLMyJe has been included to block BLCs5SwxieF7BrFVUNsfNthwmgy38NJVpWTANyBkM5H1wss79Wi\n",
      "Operation opNw43oANE2dtoKN9boPUqEX7SqR1ECwLfudMKoVTiDSeJLMyJe has 1/1 confirmations\n",
      "Operation opD2R6QcECyiS3Hm16ALHL6bCLa59pdVMAf9zNCmwWRDhsWNjLh is still in mempool\n",
      "Current level: 105 (max 225)\n",
      "Sleep 3 seconds until block BLCs5SwxieF7BrFVUNsfNthwmgy38NJVpWTANyBkM5H1wss79Wi is superseded\n",
      "Found new block BMVfDpefF9PKS2zhBKqYsnmPrx63EQUVNXA6vig1ZdKyZ5eQdjY (0 sec delay)\n",
      "Operation opD2R6QcECyiS3Hm16ALHL6bCLa59pdVMAf9zNCmwWRDhsWNjLh has left mempool\n",
      "Operation opD2R6QcECyiS3Hm16ALHL6bCLa59pdVMAf9zNCmwWRDhsWNjLh has been included to block BMVfDpefF9PKS2zhBKqYsnmPrx63EQUVNXA6vig1ZdKyZ5eQdjY\n",
      "Operation opD2R6QcECyiS3Hm16ALHL6bCLa59pdVMAf9zNCmwWRDhsWNjLh has 1/1 confirmations\n"
     ]
    }
   ],
   "source": [
    "_ = do_it(alice_ptz, oracle.default((10,7)))\n",
    "_ = do_it(alice_ptz, ch.touch())"
   ]
  },
  {
   "cell_type": "code",
   "execution_count": 42,
   "id": "5898d875",
   "metadata": {},
   "outputs": [
    {
     "data": {
      "text/plain": [
       "{'burrow_fee_index': 18446744786865499259,\n",
       " 'circulating_kit': 9043264148,\n",
       " 'drift': 32124430,\n",
       " 'drift_derivative': 1235555,\n",
       " 'imbalance_index': 18446744077201420699,\n",
       " 'index': 26352491533870788022,\n",
       " 'last_touched': 1687452115,\n",
       " 'outstanding_kit': 9042857485,\n",
       " 'protected_index': 18449203721571575438,\n",
       " 'q': 18446744074127992909,\n",
       " 'target': 8511854765633345299161}"
      ]
     },
     "execution_count": 42,
     "metadata": {},
     "output_type": "execute_result"
    }
   ],
   "source": [
    "ch.parameters()"
   ]
  },
  {
   "cell_type": "code",
   "execution_count": 43,
   "id": "34cdf348",
   "metadata": {},
   "outputs": [
    {
     "data": {
      "text/plain": [
       "False"
      ]
     },
     "execution_count": 43,
     "metadata": {},
     "output_type": "execute_result"
    }
   ],
   "source": [
    "ch.is_burrow_liquidatable(account2, 0).onchain_view()"
   ]
  },
  {
   "cell_type": "markdown",
   "id": "20f4023e",
   "metadata": {},
   "source": [
    "As we can see, even if this burrow is now really lacking collateral, it is not yet liquidatable. Checker protects the minters from brutal oracle (and price) manipulation by using a `protected_index` which is not immediately catching up to the `index`. In `src/parameters.mligo`, you can see that the limit for minting kits is computed by taking the _maximum_ of the `index` and the `protected_index`, while the condition for liquidation is computed with the _minimum_.\n",
    "\n",
    "While this choice protects the minters, it can be detrimental to liquidators in case of a sudden crash. Make sure to compare the influence of various parameters before using this in production."
   ]
  },
  {
   "cell_type": "markdown",
   "id": "8329be29",
   "metadata": {},
   "source": [
    "TODO: plots and time estimations as well."
   ]
  },
  {
   "cell_type": "code",
   "execution_count": null,
   "id": "d137bbc5",
   "metadata": {},
   "outputs": [],
   "source": []
  }
 ],
 "metadata": {
  "kernelspec": {
   "display_name": "Python 3 (ipykernel)",
   "language": "python",
   "name": "python3"
  },
  "language_info": {
   "codemirror_mode": {
    "name": "ipython",
    "version": 3
   },
   "file_extension": ".py",
   "mimetype": "text/x-python",
   "name": "python",
   "nbconvert_exporter": "python",
   "pygments_lexer": "ipython3",
   "version": "3.10.8"
  }
 },
 "nbformat": 4,
 "nbformat_minor": 5
}
