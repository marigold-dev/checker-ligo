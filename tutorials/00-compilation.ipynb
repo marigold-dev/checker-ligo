{
 "cells": [
  {
   "cell_type": "markdown",
   "id": "ada852a7",
   "metadata": {},
   "source": [
    "This notebook shows how to compile the project and to change configuration parameters."
   ]
  },
  {
   "cell_type": "code",
   "execution_count": null,
   "id": "7f628ea6",
   "metadata": {},
   "outputs": [],
   "source": [
    "from checker_tools.client.compilation import compile_everything\n",
    "from checker_tools.builder.config import CheckerRepo"
   ]
  },
  {
   "cell_type": "markdown",
   "id": "c5d75f70",
   "metadata": {},
   "source": [
    "Note that you might not be able to compile from a parent directory with a dockerized `ligo`."
   ]
  },
  {
   "cell_type": "code",
   "execution_count": null,
   "id": "066b357e",
   "metadata": {},
   "outputs": [],
   "source": [
    "conf = CheckerRepo(\"..\")\n",
    "conf.default_config"
   ]
  },
  {
   "cell_type": "markdown",
   "id": "1fd1e7ca",
   "metadata": {},
   "source": [
    "Compilation of the project should take between 5 and 10 minutes."
   ]
  },
  {
   "cell_type": "code",
   "execution_count": null,
   "id": "17f6e608",
   "metadata": {
    "scrolled": true
   },
   "outputs": [],
   "source": [
    "compile_everything(out_dir=\"../generated/michelson\", src_dir=conf.src, vendor_dir=\"../vendor\")"
   ]
  },
  {
   "cell_type": "markdown",
   "id": "ca134baa",
   "metadata": {},
   "source": [
    "Two mock contracts are also available in the repository to help with tests:"
   ]
  },
  {
   "cell_type": "code",
   "execution_count": null,
   "id": "d8a63826",
   "metadata": {},
   "outputs": [],
   "source": [
    "! ligo compile contract ../utils/mock_oracle.mligo > ../utils/mock_oracle.tz"
   ]
  },
  {
   "cell_type": "code",
   "execution_count": null,
   "id": "c6671113",
   "metadata": {},
   "outputs": [],
   "source": [
    "! ligo compile contract ../utils/mock_cfmm_oracle.mligo > ../utils/mock_cfmm_oracle.tz"
   ]
  },
  {
   "cell_type": "code",
   "execution_count": null,
   "id": "456d1a86",
   "metadata": {},
   "outputs": [],
   "source": [
    "! ligo compile contract ../utils/mavryk_oracle.mligo > ../utils/mavryk_oracle.tz"
   ]
  },
  {
   "cell_type": "code",
   "execution_count": null,
   "id": "4e0bced9",
   "metadata": {},
   "outputs": [],
   "source": []
  }
 ],
 "metadata": {
  "kernelspec": {
   "display_name": "Python 3 (ipykernel)",
   "language": "python",
   "name": "python3"
  },
  "language_info": {
   "codemirror_mode": {
    "name": "ipython",
    "version": 3
   },
   "file_extension": ".py",
   "mimetype": "text/x-python",
   "name": "python",
   "nbconvert_exporter": "python",
   "pygments_lexer": "ipython3",
   "version": "3.10.8"
  }
 },
 "nbformat": 4,
 "nbformat_minor": 5
}
